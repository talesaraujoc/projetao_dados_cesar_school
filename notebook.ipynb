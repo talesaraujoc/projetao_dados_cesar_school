{
 "cells": [
  {
   "cell_type": "code",
   "execution_count": 423,
   "metadata": {},
   "outputs": [],
   "source": [
    "import pandas as pd"
   ]
  },
  {
   "cell_type": "markdown",
   "metadata": {},
   "source": [
    "Por conta de sua experiência em análise de dados, um grupo de alunos recém-formados em medicina interessados em abrir uma clínica de ressonância magnética lhe procura. Eles desejam analisar quais são as melhores regiões para o investimento. Através de um estudo preliminar foram identificadas três regiões para uma análise mais aprofundada do mercado de saúde privado, sendo elas: Porto Alegre – RS, Vitória – ES e Recife – PE. \n",
    "(para cada resposta, considerar os anos 2014 - 2019)"
   ]
  },
  {
   "cell_type": "code",
   "execution_count": 424,
   "metadata": {},
   "outputs": [],
   "source": [
    "# Qual o tamanho da população e a penetração do mercado de planos de saúde? \n",
    "# Qual o cenário do mercado de trabalho (taxa de desocupação)?\n",
    "# Qual o tamanho da oferta de equipamentos de ressonância magnética nas regiões? \t\t\n",
    "# Analise a relação da oferta com a demanda e compare as regiões. \t\t\t\t\t\t\n",
    "# Indique qual/quais as regiões com melhor cenário para realizar o investimento.\n"
   ]
  },
  {
   "cell_type": "markdown",
   "metadata": {},
   "source": [
    "Link achar população:\n",
    "\n",
    "https://www.ibge.gov.br/estatisticas/sociais/populacao/9103-estimativas-de-populacao.html?edicao=17283"
   ]
  },
  {
   "cell_type": "markdown",
   "metadata": {},
   "source": [
    "------"
   ]
  },
  {
   "cell_type": "code",
   "execution_count": 425,
   "metadata": {},
   "outputs": [
    {
     "name": "stdout",
     "output_type": "stream",
     "text": [
      "Municípios\n",
      "Municípios\n",
      "Municípios\n",
      "Municípios\n",
      "Municípios\n"
     ]
    }
   ],
   "source": [
    "df_estimativa_populacional_2014 = pd.read_excel('data/estimativa_dou_2014_xlsx.xlsx')\n",
    "df_estimativa_populacional_2015 = pd.read_excel('data/estimativa_dou_2015_xlsx.xlsx')\n",
    "df_estimativa_populacional_2016 = pd.read_excel('data/estimativa_dou_2016_xlsx.xlsx')\n",
    "df_estimativa_populacional_2017 = pd.read_excel('data/estimativa_dou_2017_xlsx.xlsx')\n",
    "df_estimativa_populacional_2018 = pd.read_excel('data/estimativa_dou_2018_xlsx.xlsx')\n",
    "df_estimativa_populacional_2019 = pd.read_excel('data/estimativa_dou_2019_xlsx.xlsx')"
   ]
  },
  {
   "cell_type": "code",
   "execution_count": 426,
   "metadata": {},
   "outputs": [],
   "source": [
    "df_estimativa_populacional_2014['ano_competencia'] = 2014\n",
    "df_estimativa_populacional_2015['ano_competencia'] = 2015\n",
    "df_estimativa_populacional_2016['ano_competencia'] = 2016\n",
    "df_estimativa_populacional_2017['ano_competencia'] = 2017\n",
    "df_estimativa_populacional_2018['ano_competencia'] = 2018\n",
    "df_estimativa_populacional_2019['ano_competencia'] = 2019"
   ]
  },
  {
   "cell_type": "code",
   "execution_count": 427,
   "metadata": {},
   "outputs": [
    {
     "data": {
      "text/plain": [
       "Index(['UF', 'COD. UF', 'COD. MUNIC', 'NOME DO MUNICÍPIO',\n",
       "       'POPULAÇÃO ESTIMADA', 'ano_competencia'],\n",
       "      dtype='object')"
      ]
     },
     "execution_count": 427,
     "metadata": {},
     "output_type": "execute_result"
    }
   ],
   "source": [
    "df_estimativa_populacional_2019.columns"
   ]
  },
  {
   "cell_type": "code",
   "execution_count": 428,
   "metadata": {},
   "outputs": [],
   "source": [
    "lista_periodo = [2014, 2015, 2016, 2017, 2018, 2019]"
   ]
  },
  {
   "cell_type": "code",
   "execution_count": 429,
   "metadata": {},
   "outputs": [],
   "source": [
    "cidade_target = ['Porto Alegre', 'Vitória', 'Recife']"
   ]
  },
  {
   "cell_type": "code",
   "execution_count": 430,
   "metadata": {},
   "outputs": [],
   "source": [
    "features_cols = ['UF', 'COD. MUNIC', 'NOME DO MUNICÍPIO', 'POPULAÇÃO ESTIMADA', 'ano_competencia']"
   ]
  },
  {
   "cell_type": "code",
   "execution_count": 431,
   "metadata": {},
   "outputs": [],
   "source": [
    "df_estimativa_populacional_2014 = df_estimativa_populacional_2014.loc[df_estimativa_populacional_2014['NOME DO MUNICÍPIO'].isin(cidade_target)]\n",
    "df_estimativa_populacional_2015 = df_estimativa_populacional_2015.loc[df_estimativa_populacional_2015['NOME DO MUNICÍPIO'].isin(cidade_target)]\n",
    "df_estimativa_populacional_2016 = df_estimativa_populacional_2016.loc[df_estimativa_populacional_2016['NOME DO MUNICÍPIO'].isin(cidade_target)]\n",
    "df_estimativa_populacional_2017 = df_estimativa_populacional_2017.loc[df_estimativa_populacional_2017['NOME DO MUNICÍPIO'].isin(cidade_target)]\n",
    "df_estimativa_populacional_2018 = df_estimativa_populacional_2018.loc[df_estimativa_populacional_2018['NOME DO MUNICÍPIO'].isin(cidade_target)]\n",
    "df_estimativa_populacional_2019 = df_estimativa_populacional_2019.loc[df_estimativa_populacional_2019['NOME DO MUNICÍPIO'].isin(cidade_target)]\n"
   ]
  },
  {
   "cell_type": "code",
   "execution_count": 432,
   "metadata": {},
   "outputs": [],
   "source": [
    "df_estimativa_populacional_2014 = df_estimativa_populacional_2014[features_cols]\n",
    "df_estimativa_populacional_2015 = df_estimativa_populacional_2015[features_cols]\n",
    "df_estimativa_populacional_2016 = df_estimativa_populacional_2016[features_cols]\n",
    "df_estimativa_populacional_2017 = df_estimativa_populacional_2017[features_cols]\n",
    "df_estimativa_populacional_2018 = df_estimativa_populacional_2018[features_cols]\n",
    "df_estimativa_populacional_2019 = df_estimativa_populacional_2019[features_cols]"
   ]
  },
  {
   "cell_type": "code",
   "execution_count": 433,
   "metadata": {},
   "outputs": [
    {
     "data": {
      "text/html": [
       "<div>\n",
       "<style scoped>\n",
       "    .dataframe tbody tr th:only-of-type {\n",
       "        vertical-align: middle;\n",
       "    }\n",
       "\n",
       "    .dataframe tbody tr th {\n",
       "        vertical-align: top;\n",
       "    }\n",
       "\n",
       "    .dataframe thead th {\n",
       "        text-align: right;\n",
       "    }\n",
       "</style>\n",
       "<table border=\"1\" class=\"dataframe\">\n",
       "  <thead>\n",
       "    <tr style=\"text-align: right;\">\n",
       "      <th></th>\n",
       "      <th>UF</th>\n",
       "      <th>COD. MUNIC</th>\n",
       "      <th>NOME DO MUNICÍPIO</th>\n",
       "      <th>POPULAÇÃO ESTIMADA</th>\n",
       "      <th>ano_competencia</th>\n",
       "    </tr>\n",
       "  </thead>\n",
       "  <tbody>\n",
       "    <tr>\n",
       "      <th>1596</th>\n",
       "      <td>PE</td>\n",
       "      <td>11606</td>\n",
       "      <td>Recife</td>\n",
       "      <td>1645727</td>\n",
       "      <td>2019</td>\n",
       "    </tr>\n",
       "    <tr>\n",
       "      <th>3174</th>\n",
       "      <td>ES</td>\n",
       "      <td>5309</td>\n",
       "      <td>Vitória</td>\n",
       "      <td>362097</td>\n",
       "      <td>2019</td>\n",
       "    </tr>\n",
       "    <tr>\n",
       "      <th>4931</th>\n",
       "      <td>RS</td>\n",
       "      <td>14902</td>\n",
       "      <td>Porto Alegre</td>\n",
       "      <td>1483771</td>\n",
       "      <td>2019</td>\n",
       "    </tr>\n",
       "  </tbody>\n",
       "</table>\n",
       "</div>"
      ],
      "text/plain": [
       "      UF  COD. MUNIC NOME DO MUNICÍPIO POPULAÇÃO ESTIMADA  ano_competencia\n",
       "1596  PE       11606            Recife            1645727             2019\n",
       "3174  ES        5309           Vitória             362097             2019\n",
       "4931  RS       14902      Porto Alegre            1483771             2019"
      ]
     },
     "execution_count": 433,
     "metadata": {},
     "output_type": "execute_result"
    }
   ],
   "source": [
    "df_estimativa_populacional_2019"
   ]
  },
  {
   "cell_type": "code",
   "execution_count": 434,
   "metadata": {},
   "outputs": [],
   "source": [
    "df = pd.concat([df_estimativa_populacional_2014, df_estimativa_populacional_2015, df_estimativa_populacional_2016, df_estimativa_populacional_2017, df_estimativa_populacional_2018, df_estimativa_populacional_2019])"
   ]
  },
  {
   "cell_type": "code",
   "execution_count": 435,
   "metadata": {},
   "outputs": [
    {
     "data": {
      "text/html": [
       "<div>\n",
       "<style scoped>\n",
       "    .dataframe tbody tr th:only-of-type {\n",
       "        vertical-align: middle;\n",
       "    }\n",
       "\n",
       "    .dataframe tbody tr th {\n",
       "        vertical-align: top;\n",
       "    }\n",
       "\n",
       "    .dataframe thead th {\n",
       "        text-align: right;\n",
       "    }\n",
       "</style>\n",
       "<table border=\"1\" class=\"dataframe\">\n",
       "  <thead>\n",
       "    <tr style=\"text-align: right;\">\n",
       "      <th></th>\n",
       "      <th>UF</th>\n",
       "      <th>COD. MUNIC</th>\n",
       "      <th>NOME DO MUNICÍPIO</th>\n",
       "      <th>POPULAÇÃO ESTIMADA</th>\n",
       "      <th>ano_competencia</th>\n",
       "    </tr>\n",
       "  </thead>\n",
       "  <tbody>\n",
       "    <tr>\n",
       "      <th>1597</th>\n",
       "      <td>PE</td>\n",
       "      <td>11606</td>\n",
       "      <td>Recife</td>\n",
       "      <td>1608488</td>\n",
       "      <td>2014</td>\n",
       "    </tr>\n",
       "    <tr>\n",
       "      <th>3174</th>\n",
       "      <td>ES</td>\n",
       "      <td>5309</td>\n",
       "      <td>Vitória</td>\n",
       "      <td>352104</td>\n",
       "      <td>2014</td>\n",
       "    </tr>\n",
       "    <tr>\n",
       "      <th>4931</th>\n",
       "      <td>RS</td>\n",
       "      <td>14902</td>\n",
       "      <td>Porto Alegre</td>\n",
       "      <td>1472482</td>\n",
       "      <td>2014</td>\n",
       "    </tr>\n",
       "    <tr>\n",
       "      <th>1597</th>\n",
       "      <td>PE</td>\n",
       "      <td>11606</td>\n",
       "      <td>Recife</td>\n",
       "      <td>1617183</td>\n",
       "      <td>2015</td>\n",
       "    </tr>\n",
       "    <tr>\n",
       "      <th>3174</th>\n",
       "      <td>ES</td>\n",
       "      <td>5309</td>\n",
       "      <td>Vitória</td>\n",
       "      <td>355875</td>\n",
       "      <td>2015</td>\n",
       "    </tr>\n",
       "    <tr>\n",
       "      <th>4931</th>\n",
       "      <td>RS</td>\n",
       "      <td>14902</td>\n",
       "      <td>Porto Alegre</td>\n",
       "      <td>1476867</td>\n",
       "      <td>2015</td>\n",
       "    </tr>\n",
       "    <tr>\n",
       "      <th>1596</th>\n",
       "      <td>PE</td>\n",
       "      <td>11606</td>\n",
       "      <td>Recife</td>\n",
       "      <td>1625583</td>\n",
       "      <td>2016</td>\n",
       "    </tr>\n",
       "    <tr>\n",
       "      <th>3174</th>\n",
       "      <td>ES</td>\n",
       "      <td>5309</td>\n",
       "      <td>Vitória</td>\n",
       "      <td>359555</td>\n",
       "      <td>2016</td>\n",
       "    </tr>\n",
       "    <tr>\n",
       "      <th>4931</th>\n",
       "      <td>RS</td>\n",
       "      <td>14902</td>\n",
       "      <td>Porto Alegre</td>\n",
       "      <td>1481019</td>\n",
       "      <td>2016</td>\n",
       "    </tr>\n",
       "    <tr>\n",
       "      <th>1596</th>\n",
       "      <td>PE</td>\n",
       "      <td>11606</td>\n",
       "      <td>Recife</td>\n",
       "      <td>1633697</td>\n",
       "      <td>2017</td>\n",
       "    </tr>\n",
       "    <tr>\n",
       "      <th>3174</th>\n",
       "      <td>ES</td>\n",
       "      <td>5309</td>\n",
       "      <td>Vitória</td>\n",
       "      <td>363140</td>\n",
       "      <td>2017</td>\n",
       "    </tr>\n",
       "    <tr>\n",
       "      <th>4931</th>\n",
       "      <td>RS</td>\n",
       "      <td>14902</td>\n",
       "      <td>Porto Alegre</td>\n",
       "      <td>1484941</td>\n",
       "      <td>2017</td>\n",
       "    </tr>\n",
       "    <tr>\n",
       "      <th>1596</th>\n",
       "      <td>PE</td>\n",
       "      <td>11606</td>\n",
       "      <td>Recife</td>\n",
       "      <td>1637834</td>\n",
       "      <td>2018</td>\n",
       "    </tr>\n",
       "    <tr>\n",
       "      <th>3174</th>\n",
       "      <td>ES</td>\n",
       "      <td>5309</td>\n",
       "      <td>Vitória</td>\n",
       "      <td>358267</td>\n",
       "      <td>2018</td>\n",
       "    </tr>\n",
       "    <tr>\n",
       "      <th>4931</th>\n",
       "      <td>RS</td>\n",
       "      <td>14902</td>\n",
       "      <td>Porto Alegre</td>\n",
       "      <td>1479101</td>\n",
       "      <td>2018</td>\n",
       "    </tr>\n",
       "    <tr>\n",
       "      <th>1596</th>\n",
       "      <td>PE</td>\n",
       "      <td>11606</td>\n",
       "      <td>Recife</td>\n",
       "      <td>1645727</td>\n",
       "      <td>2019</td>\n",
       "    </tr>\n",
       "    <tr>\n",
       "      <th>3174</th>\n",
       "      <td>ES</td>\n",
       "      <td>5309</td>\n",
       "      <td>Vitória</td>\n",
       "      <td>362097</td>\n",
       "      <td>2019</td>\n",
       "    </tr>\n",
       "    <tr>\n",
       "      <th>4931</th>\n",
       "      <td>RS</td>\n",
       "      <td>14902</td>\n",
       "      <td>Porto Alegre</td>\n",
       "      <td>1483771</td>\n",
       "      <td>2019</td>\n",
       "    </tr>\n",
       "  </tbody>\n",
       "</table>\n",
       "</div>"
      ],
      "text/plain": [
       "      UF  COD. MUNIC NOME DO MUNICÍPIO POPULAÇÃO ESTIMADA  ano_competencia\n",
       "1597  PE       11606            Recife            1608488             2014\n",
       "3174  ES        5309           Vitória             352104             2014\n",
       "4931  RS       14902      Porto Alegre            1472482             2014\n",
       "1597  PE       11606            Recife            1617183             2015\n",
       "3174  ES        5309           Vitória             355875             2015\n",
       "4931  RS       14902      Porto Alegre            1476867             2015\n",
       "1596  PE       11606            Recife            1625583             2016\n",
       "3174  ES        5309           Vitória             359555             2016\n",
       "4931  RS       14902      Porto Alegre            1481019             2016\n",
       "1596  PE       11606            Recife            1633697             2017\n",
       "3174  ES        5309           Vitória             363140             2017\n",
       "4931  RS       14902      Porto Alegre            1484941             2017\n",
       "1596  PE       11606            Recife            1637834             2018\n",
       "3174  ES        5309           Vitória             358267             2018\n",
       "4931  RS       14902      Porto Alegre            1479101             2018\n",
       "1596  PE       11606            Recife            1645727             2019\n",
       "3174  ES        5309           Vitória             362097             2019\n",
       "4931  RS       14902      Porto Alegre            1483771             2019"
      ]
     },
     "execution_count": 435,
     "metadata": {},
     "output_type": "execute_result"
    }
   ],
   "source": [
    "df"
   ]
  },
  {
   "cell_type": "code",
   "execution_count": 436,
   "metadata": {},
   "outputs": [
    {
     "data": {
      "text/html": [
       "<div>\n",
       "<style scoped>\n",
       "    .dataframe tbody tr th:only-of-type {\n",
       "        vertical-align: middle;\n",
       "    }\n",
       "\n",
       "    .dataframe tbody tr th {\n",
       "        vertical-align: top;\n",
       "    }\n",
       "\n",
       "    .dataframe thead th {\n",
       "        text-align: right;\n",
       "    }\n",
       "</style>\n",
       "<table border=\"1\" class=\"dataframe\">\n",
       "  <thead>\n",
       "    <tr style=\"text-align: right;\">\n",
       "      <th></th>\n",
       "      <th>UF</th>\n",
       "      <th>COD. MUNIC</th>\n",
       "      <th>NOME DO MUNICÍPIO</th>\n",
       "      <th>POPULAÇÃO ESTIMADA</th>\n",
       "      <th>ano_competencia</th>\n",
       "    </tr>\n",
       "  </thead>\n",
       "  <tbody>\n",
       "    <tr>\n",
       "      <th>1597</th>\n",
       "      <td>PE</td>\n",
       "      <td>11606</td>\n",
       "      <td>Recife</td>\n",
       "      <td>1608488</td>\n",
       "      <td>2014</td>\n",
       "    </tr>\n",
       "    <tr>\n",
       "      <th>1597</th>\n",
       "      <td>PE</td>\n",
       "      <td>11606</td>\n",
       "      <td>Recife</td>\n",
       "      <td>1617183</td>\n",
       "      <td>2015</td>\n",
       "    </tr>\n",
       "    <tr>\n",
       "      <th>1596</th>\n",
       "      <td>PE</td>\n",
       "      <td>11606</td>\n",
       "      <td>Recife</td>\n",
       "      <td>1625583</td>\n",
       "      <td>2016</td>\n",
       "    </tr>\n",
       "    <tr>\n",
       "      <th>1596</th>\n",
       "      <td>PE</td>\n",
       "      <td>11606</td>\n",
       "      <td>Recife</td>\n",
       "      <td>1633697</td>\n",
       "      <td>2017</td>\n",
       "    </tr>\n",
       "    <tr>\n",
       "      <th>1596</th>\n",
       "      <td>PE</td>\n",
       "      <td>11606</td>\n",
       "      <td>Recife</td>\n",
       "      <td>1637834</td>\n",
       "      <td>2018</td>\n",
       "    </tr>\n",
       "    <tr>\n",
       "      <th>1596</th>\n",
       "      <td>PE</td>\n",
       "      <td>11606</td>\n",
       "      <td>Recife</td>\n",
       "      <td>1645727</td>\n",
       "      <td>2019</td>\n",
       "    </tr>\n",
       "  </tbody>\n",
       "</table>\n",
       "</div>"
      ],
      "text/plain": [
       "      UF  COD. MUNIC NOME DO MUNICÍPIO POPULAÇÃO ESTIMADA  ano_competencia\n",
       "1597  PE       11606            Recife            1608488             2014\n",
       "1597  PE       11606            Recife            1617183             2015\n",
       "1596  PE       11606            Recife            1625583             2016\n",
       "1596  PE       11606            Recife            1633697             2017\n",
       "1596  PE       11606            Recife            1637834             2018\n",
       "1596  PE       11606            Recife            1645727             2019"
      ]
     },
     "execution_count": 436,
     "metadata": {},
     "output_type": "execute_result"
    }
   ],
   "source": [
    "df[df['NOME DO MUNICÍPIO']=='Recife']"
   ]
  },
  {
   "cell_type": "code",
   "execution_count": 437,
   "metadata": {},
   "outputs": [],
   "source": [
    "import plotly.express as px"
   ]
  },
  {
   "cell_type": "code",
   "execution_count": 438,
   "metadata": {},
   "outputs": [
    {
     "data": {
      "application/vnd.plotly.v1+json": {
       "config": {
        "plotlyServerURL": "https://plot.ly"
       },
       "data": [
        {
         "alignmentgroup": "True",
         "hovertemplate": "NOME DO MUNICÍPIO=Recife<br>ano_competencia=%{x}<br>POPULAÇÃO ESTIMADA=%{text}<extra></extra>",
         "legendgroup": "Recife",
         "marker": {
          "color": "#636efa",
          "pattern": {
           "shape": ""
          }
         },
         "name": "Recife",
         "offsetgroup": "Recife",
         "orientation": "v",
         "showlegend": true,
         "text": [
          1608488,
          1617183,
          1625583,
          1633697,
          1637834,
          1645727
         ],
         "textposition": "outside",
         "texttemplate": "%{text:.2s}",
         "type": "bar",
         "x": [
          2014,
          2015,
          2016,
          2017,
          2018,
          2019
         ],
         "xaxis": "x",
         "y": [
          1608488,
          1617183,
          1625583,
          1633697,
          1637834,
          1645727
         ],
         "yaxis": "y"
        },
        {
         "alignmentgroup": "True",
         "hovertemplate": "NOME DO MUNICÍPIO=Vitória<br>ano_competencia=%{x}<br>POPULAÇÃO ESTIMADA=%{text}<extra></extra>",
         "legendgroup": "Vitória",
         "marker": {
          "color": "#EF553B",
          "pattern": {
           "shape": ""
          }
         },
         "name": "Vitória",
         "offsetgroup": "Vitória",
         "orientation": "v",
         "showlegend": true,
         "text": [
          352104,
          355875,
          359555,
          363140,
          358267,
          362097
         ],
         "textposition": "outside",
         "texttemplate": "%{text:.2s}",
         "type": "bar",
         "x": [
          2014,
          2015,
          2016,
          2017,
          2018,
          2019
         ],
         "xaxis": "x",
         "y": [
          352104,
          355875,
          359555,
          363140,
          358267,
          362097
         ],
         "yaxis": "y"
        },
        {
         "alignmentgroup": "True",
         "hovertemplate": "NOME DO MUNICÍPIO=Porto Alegre<br>ano_competencia=%{x}<br>POPULAÇÃO ESTIMADA=%{text}<extra></extra>",
         "legendgroup": "Porto Alegre",
         "marker": {
          "color": "#00cc96",
          "pattern": {
           "shape": ""
          }
         },
         "name": "Porto Alegre",
         "offsetgroup": "Porto Alegre",
         "orientation": "v",
         "showlegend": true,
         "text": [
          1472482,
          1476867,
          1481019,
          1484941,
          1479101,
          1483771
         ],
         "textposition": "outside",
         "texttemplate": "%{text:.2s}",
         "type": "bar",
         "x": [
          2014,
          2015,
          2016,
          2017,
          2018,
          2019
         ],
         "xaxis": "x",
         "y": [
          1472482,
          1476867,
          1481019,
          1484941,
          1479101,
          1483771
         ],
         "yaxis": "y"
        }
       ],
       "layout": {
        "barmode": "group",
        "legend": {
         "title": {
          "text": "NOME DO MUNICÍPIO"
         },
         "tracegroupgap": 0
        },
        "margin": {
         "b": 50,
         "l": 50,
         "r": 50,
         "t": 60
        },
        "template": {
         "data": {
          "bar": [
           {
            "error_x": {
             "color": "#2a3f5f"
            },
            "error_y": {
             "color": "#2a3f5f"
            },
            "marker": {
             "line": {
              "color": "#E5ECF6",
              "width": 0.5
             },
             "pattern": {
              "fillmode": "overlay",
              "size": 10,
              "solidity": 0.2
             }
            },
            "type": "bar"
           }
          ],
          "barpolar": [
           {
            "marker": {
             "line": {
              "color": "#E5ECF6",
              "width": 0.5
             },
             "pattern": {
              "fillmode": "overlay",
              "size": 10,
              "solidity": 0.2
             }
            },
            "type": "barpolar"
           }
          ],
          "carpet": [
           {
            "aaxis": {
             "endlinecolor": "#2a3f5f",
             "gridcolor": "white",
             "linecolor": "white",
             "minorgridcolor": "white",
             "startlinecolor": "#2a3f5f"
            },
            "baxis": {
             "endlinecolor": "#2a3f5f",
             "gridcolor": "white",
             "linecolor": "white",
             "minorgridcolor": "white",
             "startlinecolor": "#2a3f5f"
            },
            "type": "carpet"
           }
          ],
          "choropleth": [
           {
            "colorbar": {
             "outlinewidth": 0,
             "ticks": ""
            },
            "type": "choropleth"
           }
          ],
          "contour": [
           {
            "colorbar": {
             "outlinewidth": 0,
             "ticks": ""
            },
            "colorscale": [
             [
              0,
              "#0d0887"
             ],
             [
              0.1111111111111111,
              "#46039f"
             ],
             [
              0.2222222222222222,
              "#7201a8"
             ],
             [
              0.3333333333333333,
              "#9c179e"
             ],
             [
              0.4444444444444444,
              "#bd3786"
             ],
             [
              0.5555555555555556,
              "#d8576b"
             ],
             [
              0.6666666666666666,
              "#ed7953"
             ],
             [
              0.7777777777777778,
              "#fb9f3a"
             ],
             [
              0.8888888888888888,
              "#fdca26"
             ],
             [
              1,
              "#f0f921"
             ]
            ],
            "type": "contour"
           }
          ],
          "contourcarpet": [
           {
            "colorbar": {
             "outlinewidth": 0,
             "ticks": ""
            },
            "type": "contourcarpet"
           }
          ],
          "heatmap": [
           {
            "colorbar": {
             "outlinewidth": 0,
             "ticks": ""
            },
            "colorscale": [
             [
              0,
              "#0d0887"
             ],
             [
              0.1111111111111111,
              "#46039f"
             ],
             [
              0.2222222222222222,
              "#7201a8"
             ],
             [
              0.3333333333333333,
              "#9c179e"
             ],
             [
              0.4444444444444444,
              "#bd3786"
             ],
             [
              0.5555555555555556,
              "#d8576b"
             ],
             [
              0.6666666666666666,
              "#ed7953"
             ],
             [
              0.7777777777777778,
              "#fb9f3a"
             ],
             [
              0.8888888888888888,
              "#fdca26"
             ],
             [
              1,
              "#f0f921"
             ]
            ],
            "type": "heatmap"
           }
          ],
          "heatmapgl": [
           {
            "colorbar": {
             "outlinewidth": 0,
             "ticks": ""
            },
            "colorscale": [
             [
              0,
              "#0d0887"
             ],
             [
              0.1111111111111111,
              "#46039f"
             ],
             [
              0.2222222222222222,
              "#7201a8"
             ],
             [
              0.3333333333333333,
              "#9c179e"
             ],
             [
              0.4444444444444444,
              "#bd3786"
             ],
             [
              0.5555555555555556,
              "#d8576b"
             ],
             [
              0.6666666666666666,
              "#ed7953"
             ],
             [
              0.7777777777777778,
              "#fb9f3a"
             ],
             [
              0.8888888888888888,
              "#fdca26"
             ],
             [
              1,
              "#f0f921"
             ]
            ],
            "type": "heatmapgl"
           }
          ],
          "histogram": [
           {
            "marker": {
             "pattern": {
              "fillmode": "overlay",
              "size": 10,
              "solidity": 0.2
             }
            },
            "type": "histogram"
           }
          ],
          "histogram2d": [
           {
            "colorbar": {
             "outlinewidth": 0,
             "ticks": ""
            },
            "colorscale": [
             [
              0,
              "#0d0887"
             ],
             [
              0.1111111111111111,
              "#46039f"
             ],
             [
              0.2222222222222222,
              "#7201a8"
             ],
             [
              0.3333333333333333,
              "#9c179e"
             ],
             [
              0.4444444444444444,
              "#bd3786"
             ],
             [
              0.5555555555555556,
              "#d8576b"
             ],
             [
              0.6666666666666666,
              "#ed7953"
             ],
             [
              0.7777777777777778,
              "#fb9f3a"
             ],
             [
              0.8888888888888888,
              "#fdca26"
             ],
             [
              1,
              "#f0f921"
             ]
            ],
            "type": "histogram2d"
           }
          ],
          "histogram2dcontour": [
           {
            "colorbar": {
             "outlinewidth": 0,
             "ticks": ""
            },
            "colorscale": [
             [
              0,
              "#0d0887"
             ],
             [
              0.1111111111111111,
              "#46039f"
             ],
             [
              0.2222222222222222,
              "#7201a8"
             ],
             [
              0.3333333333333333,
              "#9c179e"
             ],
             [
              0.4444444444444444,
              "#bd3786"
             ],
             [
              0.5555555555555556,
              "#d8576b"
             ],
             [
              0.6666666666666666,
              "#ed7953"
             ],
             [
              0.7777777777777778,
              "#fb9f3a"
             ],
             [
              0.8888888888888888,
              "#fdca26"
             ],
             [
              1,
              "#f0f921"
             ]
            ],
            "type": "histogram2dcontour"
           }
          ],
          "mesh3d": [
           {
            "colorbar": {
             "outlinewidth": 0,
             "ticks": ""
            },
            "type": "mesh3d"
           }
          ],
          "parcoords": [
           {
            "line": {
             "colorbar": {
              "outlinewidth": 0,
              "ticks": ""
             }
            },
            "type": "parcoords"
           }
          ],
          "pie": [
           {
            "automargin": true,
            "type": "pie"
           }
          ],
          "scatter": [
           {
            "fillpattern": {
             "fillmode": "overlay",
             "size": 10,
             "solidity": 0.2
            },
            "type": "scatter"
           }
          ],
          "scatter3d": [
           {
            "line": {
             "colorbar": {
              "outlinewidth": 0,
              "ticks": ""
             }
            },
            "marker": {
             "colorbar": {
              "outlinewidth": 0,
              "ticks": ""
             }
            },
            "type": "scatter3d"
           }
          ],
          "scattercarpet": [
           {
            "marker": {
             "colorbar": {
              "outlinewidth": 0,
              "ticks": ""
             }
            },
            "type": "scattercarpet"
           }
          ],
          "scattergeo": [
           {
            "marker": {
             "colorbar": {
              "outlinewidth": 0,
              "ticks": ""
             }
            },
            "type": "scattergeo"
           }
          ],
          "scattergl": [
           {
            "marker": {
             "colorbar": {
              "outlinewidth": 0,
              "ticks": ""
             }
            },
            "type": "scattergl"
           }
          ],
          "scattermapbox": [
           {
            "marker": {
             "colorbar": {
              "outlinewidth": 0,
              "ticks": ""
             }
            },
            "type": "scattermapbox"
           }
          ],
          "scatterpolar": [
           {
            "marker": {
             "colorbar": {
              "outlinewidth": 0,
              "ticks": ""
             }
            },
            "type": "scatterpolar"
           }
          ],
          "scatterpolargl": [
           {
            "marker": {
             "colorbar": {
              "outlinewidth": 0,
              "ticks": ""
             }
            },
            "type": "scatterpolargl"
           }
          ],
          "scatterternary": [
           {
            "marker": {
             "colorbar": {
              "outlinewidth": 0,
              "ticks": ""
             }
            },
            "type": "scatterternary"
           }
          ],
          "surface": [
           {
            "colorbar": {
             "outlinewidth": 0,
             "ticks": ""
            },
            "colorscale": [
             [
              0,
              "#0d0887"
             ],
             [
              0.1111111111111111,
              "#46039f"
             ],
             [
              0.2222222222222222,
              "#7201a8"
             ],
             [
              0.3333333333333333,
              "#9c179e"
             ],
             [
              0.4444444444444444,
              "#bd3786"
             ],
             [
              0.5555555555555556,
              "#d8576b"
             ],
             [
              0.6666666666666666,
              "#ed7953"
             ],
             [
              0.7777777777777778,
              "#fb9f3a"
             ],
             [
              0.8888888888888888,
              "#fdca26"
             ],
             [
              1,
              "#f0f921"
             ]
            ],
            "type": "surface"
           }
          ],
          "table": [
           {
            "cells": {
             "fill": {
              "color": "#EBF0F8"
             },
             "line": {
              "color": "white"
             }
            },
            "header": {
             "fill": {
              "color": "#C8D4E3"
             },
             "line": {
              "color": "white"
             }
            },
            "type": "table"
           }
          ]
         },
         "layout": {
          "annotationdefaults": {
           "arrowcolor": "#2a3f5f",
           "arrowhead": 0,
           "arrowwidth": 1
          },
          "autotypenumbers": "strict",
          "coloraxis": {
           "colorbar": {
            "outlinewidth": 0,
            "ticks": ""
           }
          },
          "colorscale": {
           "diverging": [
            [
             0,
             "#8e0152"
            ],
            [
             0.1,
             "#c51b7d"
            ],
            [
             0.2,
             "#de77ae"
            ],
            [
             0.3,
             "#f1b6da"
            ],
            [
             0.4,
             "#fde0ef"
            ],
            [
             0.5,
             "#f7f7f7"
            ],
            [
             0.6,
             "#e6f5d0"
            ],
            [
             0.7,
             "#b8e186"
            ],
            [
             0.8,
             "#7fbc41"
            ],
            [
             0.9,
             "#4d9221"
            ],
            [
             1,
             "#276419"
            ]
           ],
           "sequential": [
            [
             0,
             "#0d0887"
            ],
            [
             0.1111111111111111,
             "#46039f"
            ],
            [
             0.2222222222222222,
             "#7201a8"
            ],
            [
             0.3333333333333333,
             "#9c179e"
            ],
            [
             0.4444444444444444,
             "#bd3786"
            ],
            [
             0.5555555555555556,
             "#d8576b"
            ],
            [
             0.6666666666666666,
             "#ed7953"
            ],
            [
             0.7777777777777778,
             "#fb9f3a"
            ],
            [
             0.8888888888888888,
             "#fdca26"
            ],
            [
             1,
             "#f0f921"
            ]
           ],
           "sequentialminus": [
            [
             0,
             "#0d0887"
            ],
            [
             0.1111111111111111,
             "#46039f"
            ],
            [
             0.2222222222222222,
             "#7201a8"
            ],
            [
             0.3333333333333333,
             "#9c179e"
            ],
            [
             0.4444444444444444,
             "#bd3786"
            ],
            [
             0.5555555555555556,
             "#d8576b"
            ],
            [
             0.6666666666666666,
             "#ed7953"
            ],
            [
             0.7777777777777778,
             "#fb9f3a"
            ],
            [
             0.8888888888888888,
             "#fdca26"
            ],
            [
             1,
             "#f0f921"
            ]
           ]
          },
          "colorway": [
           "#636efa",
           "#EF553B",
           "#00cc96",
           "#ab63fa",
           "#FFA15A",
           "#19d3f3",
           "#FF6692",
           "#B6E880",
           "#FF97FF",
           "#FECB52"
          ],
          "font": {
           "color": "#2a3f5f"
          },
          "geo": {
           "bgcolor": "white",
           "lakecolor": "white",
           "landcolor": "#E5ECF6",
           "showlakes": true,
           "showland": true,
           "subunitcolor": "white"
          },
          "hoverlabel": {
           "align": "left"
          },
          "hovermode": "closest",
          "mapbox": {
           "style": "light"
          },
          "paper_bgcolor": "white",
          "plot_bgcolor": "#E5ECF6",
          "polar": {
           "angularaxis": {
            "gridcolor": "white",
            "linecolor": "white",
            "ticks": ""
           },
           "bgcolor": "#E5ECF6",
           "radialaxis": {
            "gridcolor": "white",
            "linecolor": "white",
            "ticks": ""
           }
          },
          "scene": {
           "xaxis": {
            "backgroundcolor": "#E5ECF6",
            "gridcolor": "white",
            "gridwidth": 2,
            "linecolor": "white",
            "showbackground": true,
            "ticks": "",
            "zerolinecolor": "white"
           },
           "yaxis": {
            "backgroundcolor": "#E5ECF6",
            "gridcolor": "white",
            "gridwidth": 2,
            "linecolor": "white",
            "showbackground": true,
            "ticks": "",
            "zerolinecolor": "white"
           },
           "zaxis": {
            "backgroundcolor": "#E5ECF6",
            "gridcolor": "white",
            "gridwidth": 2,
            "linecolor": "white",
            "showbackground": true,
            "ticks": "",
            "zerolinecolor": "white"
           }
          },
          "shapedefaults": {
           "line": {
            "color": "#2a3f5f"
           }
          },
          "ternary": {
           "aaxis": {
            "gridcolor": "white",
            "linecolor": "white",
            "ticks": ""
           },
           "baxis": {
            "gridcolor": "white",
            "linecolor": "white",
            "ticks": ""
           },
           "bgcolor": "#E5ECF6",
           "caxis": {
            "gridcolor": "white",
            "linecolor": "white",
            "ticks": ""
           }
          },
          "title": {
           "x": 0.05
          },
          "xaxis": {
           "automargin": true,
           "gridcolor": "white",
           "linecolor": "white",
           "ticks": "",
           "title": {
            "standoff": 15
           },
           "zerolinecolor": "white",
           "zerolinewidth": 2
          },
          "yaxis": {
           "automargin": true,
           "gridcolor": "white",
           "linecolor": "white",
           "ticks": "",
           "title": {
            "standoff": 15
           },
           "zerolinecolor": "white",
           "zerolinewidth": 2
          }
         }
        },
        "title": {
         "text": "Estimativa Populacional"
        },
        "xaxis": {
         "anchor": "y",
         "domain": [
          0,
          1
         ],
         "title": {}
        },
        "yaxis": {
         "anchor": "x",
         "domain": [
          0,
          1
         ],
         "showticklabels": false,
         "title": {}
        }
       }
      }
     },
     "metadata": {},
     "output_type": "display_data"
    }
   ],
   "source": [
    "fig = px.bar(df, x='ano_competencia', y='POPULAÇÃO ESTIMADA', color='NOME DO MUNICÍPIO', barmode='group', orientation='v', title='Estimativa Populacional', text='POPULAÇÃO ESTIMADA')\n",
    "\n",
    "fig.update_traces(texttemplate='%{text:.2s}', textposition='outside')\n",
    "fig.update_layout(xaxis_title=None, yaxis_title=None, yaxis=dict(showticklabels=False))\n",
    "fig.update_layout(margin=dict(l=50, r=50, t=60, b=50))\n",
    "fig.show()"
   ]
  },
  {
   "cell_type": "markdown",
   "metadata": {},
   "source": [
    "---"
   ]
  },
  {
   "cell_type": "markdown",
   "metadata": {},
   "source": [
    "Planos por município"
   ]
  },
  {
   "cell_type": "code",
   "execution_count": 439,
   "metadata": {},
   "outputs": [
    {
     "data": {
      "text/html": [
       "<div>\n",
       "<style scoped>\n",
       "    .dataframe tbody tr th:only-of-type {\n",
       "        vertical-align: middle;\n",
       "    }\n",
       "\n",
       "    .dataframe tbody tr th {\n",
       "        vertical-align: top;\n",
       "    }\n",
       "\n",
       "    .dataframe thead th {\n",
       "        text-align: right;\n",
       "    }\n",
       "</style>\n",
       "<table border=\"1\" class=\"dataframe\">\n",
       "  <thead>\n",
       "    <tr style=\"text-align: right;\">\n",
       "      <th></th>\n",
       "      <th>ano_competencia</th>\n",
       "      <th>NOME DO MUNICÍPIO</th>\n",
       "      <th>PENETRACAO_PLANOS</th>\n",
       "    </tr>\n",
       "  </thead>\n",
       "  <tbody>\n",
       "    <tr>\n",
       "      <th>0</th>\n",
       "      <td>2014</td>\n",
       "      <td>Recife</td>\n",
       "      <td>687587</td>\n",
       "    </tr>\n",
       "    <tr>\n",
       "      <th>1</th>\n",
       "      <td>2015</td>\n",
       "      <td>Recife</td>\n",
       "      <td>644305</td>\n",
       "    </tr>\n",
       "    <tr>\n",
       "      <th>2</th>\n",
       "      <td>2016</td>\n",
       "      <td>Recife</td>\n",
       "      <td>637158</td>\n",
       "    </tr>\n",
       "    <tr>\n",
       "      <th>3</th>\n",
       "      <td>2017</td>\n",
       "      <td>Recife</td>\n",
       "      <td>625070</td>\n",
       "    </tr>\n",
       "    <tr>\n",
       "      <th>4</th>\n",
       "      <td>2018</td>\n",
       "      <td>Recife</td>\n",
       "      <td>623579</td>\n",
       "    </tr>\n",
       "    <tr>\n",
       "      <th>5</th>\n",
       "      <td>2019</td>\n",
       "      <td>Recife</td>\n",
       "      <td>622871</td>\n",
       "    </tr>\n",
       "    <tr>\n",
       "      <th>6</th>\n",
       "      <td>2014</td>\n",
       "      <td>Porto Alegre</td>\n",
       "      <td>703252</td>\n",
       "    </tr>\n",
       "    <tr>\n",
       "      <th>7</th>\n",
       "      <td>2015</td>\n",
       "      <td>Porto Alegre</td>\n",
       "      <td>716092</td>\n",
       "    </tr>\n",
       "    <tr>\n",
       "      <th>8</th>\n",
       "      <td>2016</td>\n",
       "      <td>Porto Alegre</td>\n",
       "      <td>690366</td>\n",
       "    </tr>\n",
       "    <tr>\n",
       "      <th>9</th>\n",
       "      <td>2017</td>\n",
       "      <td>Porto Alegre</td>\n",
       "      <td>677531</td>\n",
       "    </tr>\n",
       "    <tr>\n",
       "      <th>10</th>\n",
       "      <td>2018</td>\n",
       "      <td>Porto Alegre</td>\n",
       "      <td>626963</td>\n",
       "    </tr>\n",
       "    <tr>\n",
       "      <th>11</th>\n",
       "      <td>2019</td>\n",
       "      <td>Porto Alegre</td>\n",
       "      <td>613078</td>\n",
       "    </tr>\n",
       "    <tr>\n",
       "      <th>12</th>\n",
       "      <td>2014</td>\n",
       "      <td>Vitória</td>\n",
       "      <td>232478</td>\n",
       "    </tr>\n",
       "    <tr>\n",
       "      <th>13</th>\n",
       "      <td>2015</td>\n",
       "      <td>Vitória</td>\n",
       "      <td>221552</td>\n",
       "    </tr>\n",
       "    <tr>\n",
       "      <th>14</th>\n",
       "      <td>2016</td>\n",
       "      <td>Vitória</td>\n",
       "      <td>217385</td>\n",
       "    </tr>\n",
       "    <tr>\n",
       "      <th>15</th>\n",
       "      <td>2017</td>\n",
       "      <td>Vitória</td>\n",
       "      <td>216145</td>\n",
       "    </tr>\n",
       "    <tr>\n",
       "      <th>16</th>\n",
       "      <td>2018</td>\n",
       "      <td>Vitória</td>\n",
       "      <td>214388</td>\n",
       "    </tr>\n",
       "    <tr>\n",
       "      <th>17</th>\n",
       "      <td>2019</td>\n",
       "      <td>Vitória</td>\n",
       "      <td>213184</td>\n",
       "    </tr>\n",
       "  </tbody>\n",
       "</table>\n",
       "</div>"
      ],
      "text/plain": [
       "    ano_competencia NOME DO MUNICÍPIO  PENETRACAO_PLANOS\n",
       "0              2014            Recife             687587\n",
       "1              2015            Recife             644305\n",
       "2              2016            Recife             637158\n",
       "3              2017            Recife             625070\n",
       "4              2018            Recife             623579\n",
       "5              2019            Recife             622871\n",
       "6              2014      Porto Alegre             703252\n",
       "7              2015      Porto Alegre             716092\n",
       "8              2016      Porto Alegre             690366\n",
       "9              2017      Porto Alegre             677531\n",
       "10             2018      Porto Alegre             626963\n",
       "11             2019      Porto Alegre             613078\n",
       "12             2014           Vitória             232478\n",
       "13             2015           Vitória             221552\n",
       "14             2016           Vitória             217385\n",
       "15             2017           Vitória             216145\n",
       "16             2018           Vitória             214388\n",
       "17             2019           Vitória             213184"
      ]
     },
     "execution_count": 439,
     "metadata": {},
     "output_type": "execute_result"
    }
   ],
   "source": [
    "df_planos = pd.read_excel('data/Planos por municipio.xlsx')\n",
    "df_planos.rename({'ano':'ano_competencia', 'municipio':'NOME DO MUNICÍPIO', 'quantidade':'PENETRACAO_PLANOS'}, axis=1, inplace=True)\n",
    "\n",
    "df_planos"
   ]
  },
  {
   "cell_type": "code",
   "execution_count": 440,
   "metadata": {},
   "outputs": [
    {
     "data": {
      "application/vnd.plotly.v1+json": {
       "config": {
        "plotlyServerURL": "https://plot.ly"
       },
       "data": [
        {
         "alignmentgroup": "True",
         "hovertemplate": "NOME DO MUNICÍPIO=Recife<br>ano_competencia=%{x}<br>PENETRACAO_PLANOS=%{text}<extra></extra>",
         "legendgroup": "Recife",
         "marker": {
          "color": "#636efa",
          "pattern": {
           "shape": ""
          }
         },
         "name": "Recife",
         "offsetgroup": "Recife",
         "orientation": "v",
         "showlegend": true,
         "text": [
          687587,
          644305,
          637158,
          625070,
          623579,
          622871
         ],
         "textposition": "outside",
         "texttemplate": "%{text:.2s}",
         "type": "bar",
         "x": [
          2014,
          2015,
          2016,
          2017,
          2018,
          2019
         ],
         "xaxis": "x",
         "y": [
          687587,
          644305,
          637158,
          625070,
          623579,
          622871
         ],
         "yaxis": "y"
        },
        {
         "alignmentgroup": "True",
         "hovertemplate": "NOME DO MUNICÍPIO=Porto Alegre<br>ano_competencia=%{x}<br>PENETRACAO_PLANOS=%{text}<extra></extra>",
         "legendgroup": "Porto Alegre",
         "marker": {
          "color": "#EF553B",
          "pattern": {
           "shape": ""
          }
         },
         "name": "Porto Alegre",
         "offsetgroup": "Porto Alegre",
         "orientation": "v",
         "showlegend": true,
         "text": [
          703252,
          716092,
          690366,
          677531,
          626963,
          613078
         ],
         "textposition": "outside",
         "texttemplate": "%{text:.2s}",
         "type": "bar",
         "x": [
          2014,
          2015,
          2016,
          2017,
          2018,
          2019
         ],
         "xaxis": "x",
         "y": [
          703252,
          716092,
          690366,
          677531,
          626963,
          613078
         ],
         "yaxis": "y"
        },
        {
         "alignmentgroup": "True",
         "hovertemplate": "NOME DO MUNICÍPIO=Vitória<br>ano_competencia=%{x}<br>PENETRACAO_PLANOS=%{text}<extra></extra>",
         "legendgroup": "Vitória",
         "marker": {
          "color": "#00cc96",
          "pattern": {
           "shape": ""
          }
         },
         "name": "Vitória",
         "offsetgroup": "Vitória",
         "orientation": "v",
         "showlegend": true,
         "text": [
          232478,
          221552,
          217385,
          216145,
          214388,
          213184
         ],
         "textposition": "outside",
         "texttemplate": "%{text:.2s}",
         "type": "bar",
         "x": [
          2014,
          2015,
          2016,
          2017,
          2018,
          2019
         ],
         "xaxis": "x",
         "y": [
          232478,
          221552,
          217385,
          216145,
          214388,
          213184
         ],
         "yaxis": "y"
        }
       ],
       "layout": {
        "barmode": "group",
        "legend": {
         "title": {
          "text": "NOME DO MUNICÍPIO"
         },
         "tracegroupgap": 0
        },
        "margin": {
         "b": 50,
         "l": 50,
         "r": 50,
         "t": 60
        },
        "template": {
         "data": {
          "bar": [
           {
            "error_x": {
             "color": "#2a3f5f"
            },
            "error_y": {
             "color": "#2a3f5f"
            },
            "marker": {
             "line": {
              "color": "#E5ECF6",
              "width": 0.5
             },
             "pattern": {
              "fillmode": "overlay",
              "size": 10,
              "solidity": 0.2
             }
            },
            "type": "bar"
           }
          ],
          "barpolar": [
           {
            "marker": {
             "line": {
              "color": "#E5ECF6",
              "width": 0.5
             },
             "pattern": {
              "fillmode": "overlay",
              "size": 10,
              "solidity": 0.2
             }
            },
            "type": "barpolar"
           }
          ],
          "carpet": [
           {
            "aaxis": {
             "endlinecolor": "#2a3f5f",
             "gridcolor": "white",
             "linecolor": "white",
             "minorgridcolor": "white",
             "startlinecolor": "#2a3f5f"
            },
            "baxis": {
             "endlinecolor": "#2a3f5f",
             "gridcolor": "white",
             "linecolor": "white",
             "minorgridcolor": "white",
             "startlinecolor": "#2a3f5f"
            },
            "type": "carpet"
           }
          ],
          "choropleth": [
           {
            "colorbar": {
             "outlinewidth": 0,
             "ticks": ""
            },
            "type": "choropleth"
           }
          ],
          "contour": [
           {
            "colorbar": {
             "outlinewidth": 0,
             "ticks": ""
            },
            "colorscale": [
             [
              0,
              "#0d0887"
             ],
             [
              0.1111111111111111,
              "#46039f"
             ],
             [
              0.2222222222222222,
              "#7201a8"
             ],
             [
              0.3333333333333333,
              "#9c179e"
             ],
             [
              0.4444444444444444,
              "#bd3786"
             ],
             [
              0.5555555555555556,
              "#d8576b"
             ],
             [
              0.6666666666666666,
              "#ed7953"
             ],
             [
              0.7777777777777778,
              "#fb9f3a"
             ],
             [
              0.8888888888888888,
              "#fdca26"
             ],
             [
              1,
              "#f0f921"
             ]
            ],
            "type": "contour"
           }
          ],
          "contourcarpet": [
           {
            "colorbar": {
             "outlinewidth": 0,
             "ticks": ""
            },
            "type": "contourcarpet"
           }
          ],
          "heatmap": [
           {
            "colorbar": {
             "outlinewidth": 0,
             "ticks": ""
            },
            "colorscale": [
             [
              0,
              "#0d0887"
             ],
             [
              0.1111111111111111,
              "#46039f"
             ],
             [
              0.2222222222222222,
              "#7201a8"
             ],
             [
              0.3333333333333333,
              "#9c179e"
             ],
             [
              0.4444444444444444,
              "#bd3786"
             ],
             [
              0.5555555555555556,
              "#d8576b"
             ],
             [
              0.6666666666666666,
              "#ed7953"
             ],
             [
              0.7777777777777778,
              "#fb9f3a"
             ],
             [
              0.8888888888888888,
              "#fdca26"
             ],
             [
              1,
              "#f0f921"
             ]
            ],
            "type": "heatmap"
           }
          ],
          "heatmapgl": [
           {
            "colorbar": {
             "outlinewidth": 0,
             "ticks": ""
            },
            "colorscale": [
             [
              0,
              "#0d0887"
             ],
             [
              0.1111111111111111,
              "#46039f"
             ],
             [
              0.2222222222222222,
              "#7201a8"
             ],
             [
              0.3333333333333333,
              "#9c179e"
             ],
             [
              0.4444444444444444,
              "#bd3786"
             ],
             [
              0.5555555555555556,
              "#d8576b"
             ],
             [
              0.6666666666666666,
              "#ed7953"
             ],
             [
              0.7777777777777778,
              "#fb9f3a"
             ],
             [
              0.8888888888888888,
              "#fdca26"
             ],
             [
              1,
              "#f0f921"
             ]
            ],
            "type": "heatmapgl"
           }
          ],
          "histogram": [
           {
            "marker": {
             "pattern": {
              "fillmode": "overlay",
              "size": 10,
              "solidity": 0.2
             }
            },
            "type": "histogram"
           }
          ],
          "histogram2d": [
           {
            "colorbar": {
             "outlinewidth": 0,
             "ticks": ""
            },
            "colorscale": [
             [
              0,
              "#0d0887"
             ],
             [
              0.1111111111111111,
              "#46039f"
             ],
             [
              0.2222222222222222,
              "#7201a8"
             ],
             [
              0.3333333333333333,
              "#9c179e"
             ],
             [
              0.4444444444444444,
              "#bd3786"
             ],
             [
              0.5555555555555556,
              "#d8576b"
             ],
             [
              0.6666666666666666,
              "#ed7953"
             ],
             [
              0.7777777777777778,
              "#fb9f3a"
             ],
             [
              0.8888888888888888,
              "#fdca26"
             ],
             [
              1,
              "#f0f921"
             ]
            ],
            "type": "histogram2d"
           }
          ],
          "histogram2dcontour": [
           {
            "colorbar": {
             "outlinewidth": 0,
             "ticks": ""
            },
            "colorscale": [
             [
              0,
              "#0d0887"
             ],
             [
              0.1111111111111111,
              "#46039f"
             ],
             [
              0.2222222222222222,
              "#7201a8"
             ],
             [
              0.3333333333333333,
              "#9c179e"
             ],
             [
              0.4444444444444444,
              "#bd3786"
             ],
             [
              0.5555555555555556,
              "#d8576b"
             ],
             [
              0.6666666666666666,
              "#ed7953"
             ],
             [
              0.7777777777777778,
              "#fb9f3a"
             ],
             [
              0.8888888888888888,
              "#fdca26"
             ],
             [
              1,
              "#f0f921"
             ]
            ],
            "type": "histogram2dcontour"
           }
          ],
          "mesh3d": [
           {
            "colorbar": {
             "outlinewidth": 0,
             "ticks": ""
            },
            "type": "mesh3d"
           }
          ],
          "parcoords": [
           {
            "line": {
             "colorbar": {
              "outlinewidth": 0,
              "ticks": ""
             }
            },
            "type": "parcoords"
           }
          ],
          "pie": [
           {
            "automargin": true,
            "type": "pie"
           }
          ],
          "scatter": [
           {
            "fillpattern": {
             "fillmode": "overlay",
             "size": 10,
             "solidity": 0.2
            },
            "type": "scatter"
           }
          ],
          "scatter3d": [
           {
            "line": {
             "colorbar": {
              "outlinewidth": 0,
              "ticks": ""
             }
            },
            "marker": {
             "colorbar": {
              "outlinewidth": 0,
              "ticks": ""
             }
            },
            "type": "scatter3d"
           }
          ],
          "scattercarpet": [
           {
            "marker": {
             "colorbar": {
              "outlinewidth": 0,
              "ticks": ""
             }
            },
            "type": "scattercarpet"
           }
          ],
          "scattergeo": [
           {
            "marker": {
             "colorbar": {
              "outlinewidth": 0,
              "ticks": ""
             }
            },
            "type": "scattergeo"
           }
          ],
          "scattergl": [
           {
            "marker": {
             "colorbar": {
              "outlinewidth": 0,
              "ticks": ""
             }
            },
            "type": "scattergl"
           }
          ],
          "scattermapbox": [
           {
            "marker": {
             "colorbar": {
              "outlinewidth": 0,
              "ticks": ""
             }
            },
            "type": "scattermapbox"
           }
          ],
          "scatterpolar": [
           {
            "marker": {
             "colorbar": {
              "outlinewidth": 0,
              "ticks": ""
             }
            },
            "type": "scatterpolar"
           }
          ],
          "scatterpolargl": [
           {
            "marker": {
             "colorbar": {
              "outlinewidth": 0,
              "ticks": ""
             }
            },
            "type": "scatterpolargl"
           }
          ],
          "scatterternary": [
           {
            "marker": {
             "colorbar": {
              "outlinewidth": 0,
              "ticks": ""
             }
            },
            "type": "scatterternary"
           }
          ],
          "surface": [
           {
            "colorbar": {
             "outlinewidth": 0,
             "ticks": ""
            },
            "colorscale": [
             [
              0,
              "#0d0887"
             ],
             [
              0.1111111111111111,
              "#46039f"
             ],
             [
              0.2222222222222222,
              "#7201a8"
             ],
             [
              0.3333333333333333,
              "#9c179e"
             ],
             [
              0.4444444444444444,
              "#bd3786"
             ],
             [
              0.5555555555555556,
              "#d8576b"
             ],
             [
              0.6666666666666666,
              "#ed7953"
             ],
             [
              0.7777777777777778,
              "#fb9f3a"
             ],
             [
              0.8888888888888888,
              "#fdca26"
             ],
             [
              1,
              "#f0f921"
             ]
            ],
            "type": "surface"
           }
          ],
          "table": [
           {
            "cells": {
             "fill": {
              "color": "#EBF0F8"
             },
             "line": {
              "color": "white"
             }
            },
            "header": {
             "fill": {
              "color": "#C8D4E3"
             },
             "line": {
              "color": "white"
             }
            },
            "type": "table"
           }
          ]
         },
         "layout": {
          "annotationdefaults": {
           "arrowcolor": "#2a3f5f",
           "arrowhead": 0,
           "arrowwidth": 1
          },
          "autotypenumbers": "strict",
          "coloraxis": {
           "colorbar": {
            "outlinewidth": 0,
            "ticks": ""
           }
          },
          "colorscale": {
           "diverging": [
            [
             0,
             "#8e0152"
            ],
            [
             0.1,
             "#c51b7d"
            ],
            [
             0.2,
             "#de77ae"
            ],
            [
             0.3,
             "#f1b6da"
            ],
            [
             0.4,
             "#fde0ef"
            ],
            [
             0.5,
             "#f7f7f7"
            ],
            [
             0.6,
             "#e6f5d0"
            ],
            [
             0.7,
             "#b8e186"
            ],
            [
             0.8,
             "#7fbc41"
            ],
            [
             0.9,
             "#4d9221"
            ],
            [
             1,
             "#276419"
            ]
           ],
           "sequential": [
            [
             0,
             "#0d0887"
            ],
            [
             0.1111111111111111,
             "#46039f"
            ],
            [
             0.2222222222222222,
             "#7201a8"
            ],
            [
             0.3333333333333333,
             "#9c179e"
            ],
            [
             0.4444444444444444,
             "#bd3786"
            ],
            [
             0.5555555555555556,
             "#d8576b"
            ],
            [
             0.6666666666666666,
             "#ed7953"
            ],
            [
             0.7777777777777778,
             "#fb9f3a"
            ],
            [
             0.8888888888888888,
             "#fdca26"
            ],
            [
             1,
             "#f0f921"
            ]
           ],
           "sequentialminus": [
            [
             0,
             "#0d0887"
            ],
            [
             0.1111111111111111,
             "#46039f"
            ],
            [
             0.2222222222222222,
             "#7201a8"
            ],
            [
             0.3333333333333333,
             "#9c179e"
            ],
            [
             0.4444444444444444,
             "#bd3786"
            ],
            [
             0.5555555555555556,
             "#d8576b"
            ],
            [
             0.6666666666666666,
             "#ed7953"
            ],
            [
             0.7777777777777778,
             "#fb9f3a"
            ],
            [
             0.8888888888888888,
             "#fdca26"
            ],
            [
             1,
             "#f0f921"
            ]
           ]
          },
          "colorway": [
           "#636efa",
           "#EF553B",
           "#00cc96",
           "#ab63fa",
           "#FFA15A",
           "#19d3f3",
           "#FF6692",
           "#B6E880",
           "#FF97FF",
           "#FECB52"
          ],
          "font": {
           "color": "#2a3f5f"
          },
          "geo": {
           "bgcolor": "white",
           "lakecolor": "white",
           "landcolor": "#E5ECF6",
           "showlakes": true,
           "showland": true,
           "subunitcolor": "white"
          },
          "hoverlabel": {
           "align": "left"
          },
          "hovermode": "closest",
          "mapbox": {
           "style": "light"
          },
          "paper_bgcolor": "white",
          "plot_bgcolor": "#E5ECF6",
          "polar": {
           "angularaxis": {
            "gridcolor": "white",
            "linecolor": "white",
            "ticks": ""
           },
           "bgcolor": "#E5ECF6",
           "radialaxis": {
            "gridcolor": "white",
            "linecolor": "white",
            "ticks": ""
           }
          },
          "scene": {
           "xaxis": {
            "backgroundcolor": "#E5ECF6",
            "gridcolor": "white",
            "gridwidth": 2,
            "linecolor": "white",
            "showbackground": true,
            "ticks": "",
            "zerolinecolor": "white"
           },
           "yaxis": {
            "backgroundcolor": "#E5ECF6",
            "gridcolor": "white",
            "gridwidth": 2,
            "linecolor": "white",
            "showbackground": true,
            "ticks": "",
            "zerolinecolor": "white"
           },
           "zaxis": {
            "backgroundcolor": "#E5ECF6",
            "gridcolor": "white",
            "gridwidth": 2,
            "linecolor": "white",
            "showbackground": true,
            "ticks": "",
            "zerolinecolor": "white"
           }
          },
          "shapedefaults": {
           "line": {
            "color": "#2a3f5f"
           }
          },
          "ternary": {
           "aaxis": {
            "gridcolor": "white",
            "linecolor": "white",
            "ticks": ""
           },
           "baxis": {
            "gridcolor": "white",
            "linecolor": "white",
            "ticks": ""
           },
           "bgcolor": "#E5ECF6",
           "caxis": {
            "gridcolor": "white",
            "linecolor": "white",
            "ticks": ""
           }
          },
          "title": {
           "x": 0.05
          },
          "xaxis": {
           "automargin": true,
           "gridcolor": "white",
           "linecolor": "white",
           "ticks": "",
           "title": {
            "standoff": 15
           },
           "zerolinecolor": "white",
           "zerolinewidth": 2
          },
          "yaxis": {
           "automargin": true,
           "gridcolor": "white",
           "linecolor": "white",
           "ticks": "",
           "title": {
            "standoff": 15
           },
           "zerolinecolor": "white",
           "zerolinewidth": 2
          }
         }
        },
        "title": {
         "text": "Planos vs Município"
        },
        "xaxis": {
         "anchor": "y",
         "domain": [
          0,
          1
         ],
         "title": {}
        },
        "yaxis": {
         "anchor": "x",
         "domain": [
          0,
          1
         ],
         "showticklabels": false,
         "title": {}
        }
       }
      }
     },
     "metadata": {},
     "output_type": "display_data"
    }
   ],
   "source": [
    "fig = px.bar(df_planos, x='ano_competencia', y='PENETRACAO_PLANOS', color='NOME DO MUNICÍPIO', barmode='group', orientation='v', title='Planos vs Município', text='PENETRACAO_PLANOS')\n",
    "\n",
    "fig.update_traces(texttemplate='%{text:.2s}', textposition='outside')\n",
    "fig.update_layout(xaxis_title=None, yaxis_title=None, yaxis=dict(showticklabels=False))\n",
    "fig.update_layout(margin=dict(l=50, r=50, t=60, b=50))\n",
    "fig.show()"
   ]
  },
  {
   "cell_type": "markdown",
   "metadata": {},
   "source": [
    "---"
   ]
  },
  {
   "cell_type": "code",
   "execution_count": 441,
   "metadata": {},
   "outputs": [
    {
     "data": {
      "text/html": [
       "<div>\n",
       "<style scoped>\n",
       "    .dataframe tbody tr th:only-of-type {\n",
       "        vertical-align: middle;\n",
       "    }\n",
       "\n",
       "    .dataframe tbody tr th {\n",
       "        vertical-align: top;\n",
       "    }\n",
       "\n",
       "    .dataframe thead th {\n",
       "        text-align: right;\n",
       "    }\n",
       "</style>\n",
       "<table border=\"1\" class=\"dataframe\">\n",
       "  <thead>\n",
       "    <tr style=\"text-align: right;\">\n",
       "      <th></th>\n",
       "      <th>UF</th>\n",
       "      <th>COD. MUNIC</th>\n",
       "      <th>NOME DO MUNICÍPIO</th>\n",
       "      <th>POPULAÇÃO ESTIMADA</th>\n",
       "      <th>ano_competencia</th>\n",
       "    </tr>\n",
       "  </thead>\n",
       "  <tbody>\n",
       "    <tr>\n",
       "      <th>1597</th>\n",
       "      <td>PE</td>\n",
       "      <td>11606</td>\n",
       "      <td>Recife</td>\n",
       "      <td>1608488</td>\n",
       "      <td>2014</td>\n",
       "    </tr>\n",
       "    <tr>\n",
       "      <th>3174</th>\n",
       "      <td>ES</td>\n",
       "      <td>5309</td>\n",
       "      <td>Vitória</td>\n",
       "      <td>352104</td>\n",
       "      <td>2014</td>\n",
       "    </tr>\n",
       "    <tr>\n",
       "      <th>4931</th>\n",
       "      <td>RS</td>\n",
       "      <td>14902</td>\n",
       "      <td>Porto Alegre</td>\n",
       "      <td>1472482</td>\n",
       "      <td>2014</td>\n",
       "    </tr>\n",
       "  </tbody>\n",
       "</table>\n",
       "</div>"
      ],
      "text/plain": [
       "      UF  COD. MUNIC NOME DO MUNICÍPIO POPULAÇÃO ESTIMADA  ano_competencia\n",
       "1597  PE       11606            Recife            1608488             2014\n",
       "3174  ES        5309           Vitória             352104             2014\n",
       "4931  RS       14902      Porto Alegre            1472482             2014"
      ]
     },
     "execution_count": 441,
     "metadata": {},
     "output_type": "execute_result"
    }
   ],
   "source": [
    "df.head(3)"
   ]
  },
  {
   "cell_type": "code",
   "execution_count": 442,
   "metadata": {},
   "outputs": [
    {
     "data": {
      "text/html": [
       "<div>\n",
       "<style scoped>\n",
       "    .dataframe tbody tr th:only-of-type {\n",
       "        vertical-align: middle;\n",
       "    }\n",
       "\n",
       "    .dataframe tbody tr th {\n",
       "        vertical-align: top;\n",
       "    }\n",
       "\n",
       "    .dataframe thead th {\n",
       "        text-align: right;\n",
       "    }\n",
       "</style>\n",
       "<table border=\"1\" class=\"dataframe\">\n",
       "  <thead>\n",
       "    <tr style=\"text-align: right;\">\n",
       "      <th></th>\n",
       "      <th>ano_competencia</th>\n",
       "      <th>NOME DO MUNICÍPIO</th>\n",
       "      <th>PENETRACAO_PLANOS</th>\n",
       "    </tr>\n",
       "  </thead>\n",
       "  <tbody>\n",
       "    <tr>\n",
       "      <th>0</th>\n",
       "      <td>2014</td>\n",
       "      <td>Recife</td>\n",
       "      <td>687587</td>\n",
       "    </tr>\n",
       "    <tr>\n",
       "      <th>1</th>\n",
       "      <td>2015</td>\n",
       "      <td>Recife</td>\n",
       "      <td>644305</td>\n",
       "    </tr>\n",
       "    <tr>\n",
       "      <th>2</th>\n",
       "      <td>2016</td>\n",
       "      <td>Recife</td>\n",
       "      <td>637158</td>\n",
       "    </tr>\n",
       "  </tbody>\n",
       "</table>\n",
       "</div>"
      ],
      "text/plain": [
       "   ano_competencia NOME DO MUNICÍPIO  PENETRACAO_PLANOS\n",
       "0             2014            Recife             687587\n",
       "1             2015            Recife             644305\n",
       "2             2016            Recife             637158"
      ]
     },
     "execution_count": 442,
     "metadata": {},
     "output_type": "execute_result"
    }
   ],
   "source": [
    "df_planos.head(3)"
   ]
  },
  {
   "cell_type": "code",
   "execution_count": 443,
   "metadata": {},
   "outputs": [
    {
     "data": {
      "text/html": [
       "<div>\n",
       "<style scoped>\n",
       "    .dataframe tbody tr th:only-of-type {\n",
       "        vertical-align: middle;\n",
       "    }\n",
       "\n",
       "    .dataframe tbody tr th {\n",
       "        vertical-align: top;\n",
       "    }\n",
       "\n",
       "    .dataframe thead th {\n",
       "        text-align: right;\n",
       "    }\n",
       "</style>\n",
       "<table border=\"1\" class=\"dataframe\">\n",
       "  <thead>\n",
       "    <tr style=\"text-align: right;\">\n",
       "      <th></th>\n",
       "      <th>UF</th>\n",
       "      <th>COD. MUNIC</th>\n",
       "      <th>NOME DO MUNICÍPIO</th>\n",
       "      <th>POPULAÇÃO ESTIMADA</th>\n",
       "      <th>ano_competencia</th>\n",
       "      <th>PENETRACAO_PLANOS</th>\n",
       "    </tr>\n",
       "  </thead>\n",
       "  <tbody>\n",
       "    <tr>\n",
       "      <th>0</th>\n",
       "      <td>PE</td>\n",
       "      <td>11606</td>\n",
       "      <td>Recife</td>\n",
       "      <td>1608488</td>\n",
       "      <td>2014</td>\n",
       "      <td>687587</td>\n",
       "    </tr>\n",
       "    <tr>\n",
       "      <th>1</th>\n",
       "      <td>ES</td>\n",
       "      <td>5309</td>\n",
       "      <td>Vitória</td>\n",
       "      <td>352104</td>\n",
       "      <td>2014</td>\n",
       "      <td>232478</td>\n",
       "    </tr>\n",
       "    <tr>\n",
       "      <th>2</th>\n",
       "      <td>RS</td>\n",
       "      <td>14902</td>\n",
       "      <td>Porto Alegre</td>\n",
       "      <td>1472482</td>\n",
       "      <td>2014</td>\n",
       "      <td>703252</td>\n",
       "    </tr>\n",
       "    <tr>\n",
       "      <th>3</th>\n",
       "      <td>PE</td>\n",
       "      <td>11606</td>\n",
       "      <td>Recife</td>\n",
       "      <td>1617183</td>\n",
       "      <td>2015</td>\n",
       "      <td>644305</td>\n",
       "    </tr>\n",
       "    <tr>\n",
       "      <th>4</th>\n",
       "      <td>ES</td>\n",
       "      <td>5309</td>\n",
       "      <td>Vitória</td>\n",
       "      <td>355875</td>\n",
       "      <td>2015</td>\n",
       "      <td>221552</td>\n",
       "    </tr>\n",
       "    <tr>\n",
       "      <th>5</th>\n",
       "      <td>RS</td>\n",
       "      <td>14902</td>\n",
       "      <td>Porto Alegre</td>\n",
       "      <td>1476867</td>\n",
       "      <td>2015</td>\n",
       "      <td>716092</td>\n",
       "    </tr>\n",
       "    <tr>\n",
       "      <th>6</th>\n",
       "      <td>PE</td>\n",
       "      <td>11606</td>\n",
       "      <td>Recife</td>\n",
       "      <td>1625583</td>\n",
       "      <td>2016</td>\n",
       "      <td>637158</td>\n",
       "    </tr>\n",
       "    <tr>\n",
       "      <th>7</th>\n",
       "      <td>ES</td>\n",
       "      <td>5309</td>\n",
       "      <td>Vitória</td>\n",
       "      <td>359555</td>\n",
       "      <td>2016</td>\n",
       "      <td>217385</td>\n",
       "    </tr>\n",
       "    <tr>\n",
       "      <th>8</th>\n",
       "      <td>RS</td>\n",
       "      <td>14902</td>\n",
       "      <td>Porto Alegre</td>\n",
       "      <td>1481019</td>\n",
       "      <td>2016</td>\n",
       "      <td>690366</td>\n",
       "    </tr>\n",
       "    <tr>\n",
       "      <th>9</th>\n",
       "      <td>PE</td>\n",
       "      <td>11606</td>\n",
       "      <td>Recife</td>\n",
       "      <td>1633697</td>\n",
       "      <td>2017</td>\n",
       "      <td>625070</td>\n",
       "    </tr>\n",
       "    <tr>\n",
       "      <th>10</th>\n",
       "      <td>ES</td>\n",
       "      <td>5309</td>\n",
       "      <td>Vitória</td>\n",
       "      <td>363140</td>\n",
       "      <td>2017</td>\n",
       "      <td>216145</td>\n",
       "    </tr>\n",
       "    <tr>\n",
       "      <th>11</th>\n",
       "      <td>RS</td>\n",
       "      <td>14902</td>\n",
       "      <td>Porto Alegre</td>\n",
       "      <td>1484941</td>\n",
       "      <td>2017</td>\n",
       "      <td>677531</td>\n",
       "    </tr>\n",
       "    <tr>\n",
       "      <th>12</th>\n",
       "      <td>PE</td>\n",
       "      <td>11606</td>\n",
       "      <td>Recife</td>\n",
       "      <td>1637834</td>\n",
       "      <td>2018</td>\n",
       "      <td>623579</td>\n",
       "    </tr>\n",
       "    <tr>\n",
       "      <th>13</th>\n",
       "      <td>ES</td>\n",
       "      <td>5309</td>\n",
       "      <td>Vitória</td>\n",
       "      <td>358267</td>\n",
       "      <td>2018</td>\n",
       "      <td>214388</td>\n",
       "    </tr>\n",
       "    <tr>\n",
       "      <th>14</th>\n",
       "      <td>RS</td>\n",
       "      <td>14902</td>\n",
       "      <td>Porto Alegre</td>\n",
       "      <td>1479101</td>\n",
       "      <td>2018</td>\n",
       "      <td>626963</td>\n",
       "    </tr>\n",
       "    <tr>\n",
       "      <th>15</th>\n",
       "      <td>PE</td>\n",
       "      <td>11606</td>\n",
       "      <td>Recife</td>\n",
       "      <td>1645727</td>\n",
       "      <td>2019</td>\n",
       "      <td>622871</td>\n",
       "    </tr>\n",
       "    <tr>\n",
       "      <th>16</th>\n",
       "      <td>ES</td>\n",
       "      <td>5309</td>\n",
       "      <td>Vitória</td>\n",
       "      <td>362097</td>\n",
       "      <td>2019</td>\n",
       "      <td>213184</td>\n",
       "    </tr>\n",
       "    <tr>\n",
       "      <th>17</th>\n",
       "      <td>RS</td>\n",
       "      <td>14902</td>\n",
       "      <td>Porto Alegre</td>\n",
       "      <td>1483771</td>\n",
       "      <td>2019</td>\n",
       "      <td>613078</td>\n",
       "    </tr>\n",
       "  </tbody>\n",
       "</table>\n",
       "</div>"
      ],
      "text/plain": [
       "    UF  COD. MUNIC NOME DO MUNICÍPIO POPULAÇÃO ESTIMADA  ano_competencia  \\\n",
       "0   PE       11606            Recife            1608488             2014   \n",
       "1   ES        5309           Vitória             352104             2014   \n",
       "2   RS       14902      Porto Alegre            1472482             2014   \n",
       "3   PE       11606            Recife            1617183             2015   \n",
       "4   ES        5309           Vitória             355875             2015   \n",
       "5   RS       14902      Porto Alegre            1476867             2015   \n",
       "6   PE       11606            Recife            1625583             2016   \n",
       "7   ES        5309           Vitória             359555             2016   \n",
       "8   RS       14902      Porto Alegre            1481019             2016   \n",
       "9   PE       11606            Recife            1633697             2017   \n",
       "10  ES        5309           Vitória             363140             2017   \n",
       "11  RS       14902      Porto Alegre            1484941             2017   \n",
       "12  PE       11606            Recife            1637834             2018   \n",
       "13  ES        5309           Vitória             358267             2018   \n",
       "14  RS       14902      Porto Alegre            1479101             2018   \n",
       "15  PE       11606            Recife            1645727             2019   \n",
       "16  ES        5309           Vitória             362097             2019   \n",
       "17  RS       14902      Porto Alegre            1483771             2019   \n",
       "\n",
       "    PENETRACAO_PLANOS  \n",
       "0              687587  \n",
       "1              232478  \n",
       "2              703252  \n",
       "3              644305  \n",
       "4              221552  \n",
       "5              716092  \n",
       "6              637158  \n",
       "7              217385  \n",
       "8              690366  \n",
       "9              625070  \n",
       "10             216145  \n",
       "11             677531  \n",
       "12             623579  \n",
       "13             214388  \n",
       "14             626963  \n",
       "15             622871  \n",
       "16             213184  \n",
       "17             613078  "
      ]
     },
     "execution_count": 443,
     "metadata": {},
     "output_type": "execute_result"
    }
   ],
   "source": [
    "df_merged = pd.merge(df, df_planos, how='inner', on=['NOME DO MUNICÍPIO', 'ano_competencia'])\n",
    "df_merged"
   ]
  },
  {
   "cell_type": "code",
   "execution_count": 444,
   "metadata": {},
   "outputs": [],
   "source": [
    "df_merged['proporcao'] = df_merged['PENETRACAO_PLANOS'] / df_merged['POPULAÇÃO ESTIMADA']\n",
    "df_merged['proporcao'] = df_merged['proporcao'].apply(lambda x: round(x, 2))"
   ]
  },
  {
   "cell_type": "code",
   "execution_count": 445,
   "metadata": {},
   "outputs": [
    {
     "data": {
      "text/html": [
       "<div>\n",
       "<style scoped>\n",
       "    .dataframe tbody tr th:only-of-type {\n",
       "        vertical-align: middle;\n",
       "    }\n",
       "\n",
       "    .dataframe tbody tr th {\n",
       "        vertical-align: top;\n",
       "    }\n",
       "\n",
       "    .dataframe thead th {\n",
       "        text-align: right;\n",
       "    }\n",
       "</style>\n",
       "<table border=\"1\" class=\"dataframe\">\n",
       "  <thead>\n",
       "    <tr style=\"text-align: right;\">\n",
       "      <th></th>\n",
       "      <th>UF</th>\n",
       "      <th>COD. MUNIC</th>\n",
       "      <th>NOME DO MUNICÍPIO</th>\n",
       "      <th>POPULAÇÃO ESTIMADA</th>\n",
       "      <th>ano_competencia</th>\n",
       "      <th>PENETRACAO_PLANOS</th>\n",
       "      <th>proporcao</th>\n",
       "    </tr>\n",
       "  </thead>\n",
       "  <tbody>\n",
       "    <tr>\n",
       "      <th>0</th>\n",
       "      <td>PE</td>\n",
       "      <td>11606</td>\n",
       "      <td>Recife</td>\n",
       "      <td>1608488</td>\n",
       "      <td>2014</td>\n",
       "      <td>687587</td>\n",
       "      <td>0.43</td>\n",
       "    </tr>\n",
       "    <tr>\n",
       "      <th>1</th>\n",
       "      <td>ES</td>\n",
       "      <td>5309</td>\n",
       "      <td>Vitória</td>\n",
       "      <td>352104</td>\n",
       "      <td>2014</td>\n",
       "      <td>232478</td>\n",
       "      <td>0.66</td>\n",
       "    </tr>\n",
       "    <tr>\n",
       "      <th>2</th>\n",
       "      <td>RS</td>\n",
       "      <td>14902</td>\n",
       "      <td>Porto Alegre</td>\n",
       "      <td>1472482</td>\n",
       "      <td>2014</td>\n",
       "      <td>703252</td>\n",
       "      <td>0.48</td>\n",
       "    </tr>\n",
       "    <tr>\n",
       "      <th>3</th>\n",
       "      <td>PE</td>\n",
       "      <td>11606</td>\n",
       "      <td>Recife</td>\n",
       "      <td>1617183</td>\n",
       "      <td>2015</td>\n",
       "      <td>644305</td>\n",
       "      <td>0.40</td>\n",
       "    </tr>\n",
       "    <tr>\n",
       "      <th>4</th>\n",
       "      <td>ES</td>\n",
       "      <td>5309</td>\n",
       "      <td>Vitória</td>\n",
       "      <td>355875</td>\n",
       "      <td>2015</td>\n",
       "      <td>221552</td>\n",
       "      <td>0.62</td>\n",
       "    </tr>\n",
       "    <tr>\n",
       "      <th>5</th>\n",
       "      <td>RS</td>\n",
       "      <td>14902</td>\n",
       "      <td>Porto Alegre</td>\n",
       "      <td>1476867</td>\n",
       "      <td>2015</td>\n",
       "      <td>716092</td>\n",
       "      <td>0.48</td>\n",
       "    </tr>\n",
       "    <tr>\n",
       "      <th>6</th>\n",
       "      <td>PE</td>\n",
       "      <td>11606</td>\n",
       "      <td>Recife</td>\n",
       "      <td>1625583</td>\n",
       "      <td>2016</td>\n",
       "      <td>637158</td>\n",
       "      <td>0.39</td>\n",
       "    </tr>\n",
       "    <tr>\n",
       "      <th>7</th>\n",
       "      <td>ES</td>\n",
       "      <td>5309</td>\n",
       "      <td>Vitória</td>\n",
       "      <td>359555</td>\n",
       "      <td>2016</td>\n",
       "      <td>217385</td>\n",
       "      <td>0.60</td>\n",
       "    </tr>\n",
       "    <tr>\n",
       "      <th>8</th>\n",
       "      <td>RS</td>\n",
       "      <td>14902</td>\n",
       "      <td>Porto Alegre</td>\n",
       "      <td>1481019</td>\n",
       "      <td>2016</td>\n",
       "      <td>690366</td>\n",
       "      <td>0.47</td>\n",
       "    </tr>\n",
       "    <tr>\n",
       "      <th>9</th>\n",
       "      <td>PE</td>\n",
       "      <td>11606</td>\n",
       "      <td>Recife</td>\n",
       "      <td>1633697</td>\n",
       "      <td>2017</td>\n",
       "      <td>625070</td>\n",
       "      <td>0.38</td>\n",
       "    </tr>\n",
       "    <tr>\n",
       "      <th>10</th>\n",
       "      <td>ES</td>\n",
       "      <td>5309</td>\n",
       "      <td>Vitória</td>\n",
       "      <td>363140</td>\n",
       "      <td>2017</td>\n",
       "      <td>216145</td>\n",
       "      <td>0.60</td>\n",
       "    </tr>\n",
       "    <tr>\n",
       "      <th>11</th>\n",
       "      <td>RS</td>\n",
       "      <td>14902</td>\n",
       "      <td>Porto Alegre</td>\n",
       "      <td>1484941</td>\n",
       "      <td>2017</td>\n",
       "      <td>677531</td>\n",
       "      <td>0.46</td>\n",
       "    </tr>\n",
       "    <tr>\n",
       "      <th>12</th>\n",
       "      <td>PE</td>\n",
       "      <td>11606</td>\n",
       "      <td>Recife</td>\n",
       "      <td>1637834</td>\n",
       "      <td>2018</td>\n",
       "      <td>623579</td>\n",
       "      <td>0.38</td>\n",
       "    </tr>\n",
       "    <tr>\n",
       "      <th>13</th>\n",
       "      <td>ES</td>\n",
       "      <td>5309</td>\n",
       "      <td>Vitória</td>\n",
       "      <td>358267</td>\n",
       "      <td>2018</td>\n",
       "      <td>214388</td>\n",
       "      <td>0.60</td>\n",
       "    </tr>\n",
       "    <tr>\n",
       "      <th>14</th>\n",
       "      <td>RS</td>\n",
       "      <td>14902</td>\n",
       "      <td>Porto Alegre</td>\n",
       "      <td>1479101</td>\n",
       "      <td>2018</td>\n",
       "      <td>626963</td>\n",
       "      <td>0.42</td>\n",
       "    </tr>\n",
       "    <tr>\n",
       "      <th>15</th>\n",
       "      <td>PE</td>\n",
       "      <td>11606</td>\n",
       "      <td>Recife</td>\n",
       "      <td>1645727</td>\n",
       "      <td>2019</td>\n",
       "      <td>622871</td>\n",
       "      <td>0.38</td>\n",
       "    </tr>\n",
       "    <tr>\n",
       "      <th>16</th>\n",
       "      <td>ES</td>\n",
       "      <td>5309</td>\n",
       "      <td>Vitória</td>\n",
       "      <td>362097</td>\n",
       "      <td>2019</td>\n",
       "      <td>213184</td>\n",
       "      <td>0.59</td>\n",
       "    </tr>\n",
       "    <tr>\n",
       "      <th>17</th>\n",
       "      <td>RS</td>\n",
       "      <td>14902</td>\n",
       "      <td>Porto Alegre</td>\n",
       "      <td>1483771</td>\n",
       "      <td>2019</td>\n",
       "      <td>613078</td>\n",
       "      <td>0.41</td>\n",
       "    </tr>\n",
       "  </tbody>\n",
       "</table>\n",
       "</div>"
      ],
      "text/plain": [
       "    UF  COD. MUNIC NOME DO MUNICÍPIO POPULAÇÃO ESTIMADA  ano_competencia  \\\n",
       "0   PE       11606            Recife            1608488             2014   \n",
       "1   ES        5309           Vitória             352104             2014   \n",
       "2   RS       14902      Porto Alegre            1472482             2014   \n",
       "3   PE       11606            Recife            1617183             2015   \n",
       "4   ES        5309           Vitória             355875             2015   \n",
       "5   RS       14902      Porto Alegre            1476867             2015   \n",
       "6   PE       11606            Recife            1625583             2016   \n",
       "7   ES        5309           Vitória             359555             2016   \n",
       "8   RS       14902      Porto Alegre            1481019             2016   \n",
       "9   PE       11606            Recife            1633697             2017   \n",
       "10  ES        5309           Vitória             363140             2017   \n",
       "11  RS       14902      Porto Alegre            1484941             2017   \n",
       "12  PE       11606            Recife            1637834             2018   \n",
       "13  ES        5309           Vitória             358267             2018   \n",
       "14  RS       14902      Porto Alegre            1479101             2018   \n",
       "15  PE       11606            Recife            1645727             2019   \n",
       "16  ES        5309           Vitória             362097             2019   \n",
       "17  RS       14902      Porto Alegre            1483771             2019   \n",
       "\n",
       "    PENETRACAO_PLANOS  proporcao  \n",
       "0              687587       0.43  \n",
       "1              232478       0.66  \n",
       "2              703252       0.48  \n",
       "3              644305       0.40  \n",
       "4              221552       0.62  \n",
       "5              716092       0.48  \n",
       "6              637158       0.39  \n",
       "7              217385       0.60  \n",
       "8              690366       0.47  \n",
       "9              625070       0.38  \n",
       "10             216145       0.60  \n",
       "11             677531       0.46  \n",
       "12             623579       0.38  \n",
       "13             214388       0.60  \n",
       "14             626963       0.42  \n",
       "15             622871       0.38  \n",
       "16             213184       0.59  \n",
       "17             613078       0.41  "
      ]
     },
     "execution_count": 445,
     "metadata": {},
     "output_type": "execute_result"
    }
   ],
   "source": [
    "df_merged"
   ]
  },
  {
   "cell_type": "code",
   "execution_count": 446,
   "metadata": {},
   "outputs": [
    {
     "data": {
      "text/html": [
       "<div>\n",
       "<style scoped>\n",
       "    .dataframe tbody tr th:only-of-type {\n",
       "        vertical-align: middle;\n",
       "    }\n",
       "\n",
       "    .dataframe tbody tr th {\n",
       "        vertical-align: top;\n",
       "    }\n",
       "\n",
       "    .dataframe thead th {\n",
       "        text-align: right;\n",
       "    }\n",
       "</style>\n",
       "<table border=\"1\" class=\"dataframe\">\n",
       "  <thead>\n",
       "    <tr style=\"text-align: right;\">\n",
       "      <th></th>\n",
       "      <th>NOME DO MUNICÍPIO</th>\n",
       "      <th>proporcao</th>\n",
       "    </tr>\n",
       "  </thead>\n",
       "  <tbody>\n",
       "    <tr>\n",
       "      <th>0</th>\n",
       "      <td>Recife</td>\n",
       "      <td>0.393333</td>\n",
       "    </tr>\n",
       "    <tr>\n",
       "      <th>1</th>\n",
       "      <td>Porto Alegre</td>\n",
       "      <td>0.453333</td>\n",
       "    </tr>\n",
       "    <tr>\n",
       "      <th>2</th>\n",
       "      <td>Vitória</td>\n",
       "      <td>0.611667</td>\n",
       "    </tr>\n",
       "  </tbody>\n",
       "</table>\n",
       "</div>"
      ],
      "text/plain": [
       "  NOME DO MUNICÍPIO  proporcao\n",
       "0            Recife   0.393333\n",
       "1      Porto Alegre   0.453333\n",
       "2           Vitória   0.611667"
      ]
     },
     "execution_count": 446,
     "metadata": {},
     "output_type": "execute_result"
    }
   ],
   "source": [
    "df_merged.groupby('NOME DO MUNICÍPIO').agg({'proporcao':'mean'}).sort_values(by='proporcao', ascending=True).reset_index()"
   ]
  },
  {
   "cell_type": "markdown",
   "metadata": {},
   "source": [
    "---"
   ]
  },
  {
   "cell_type": "code",
   "execution_count": 447,
   "metadata": {},
   "outputs": [],
   "source": [
    "df_ressonancia = pd.read_csv('data/ressonancia_magnetica.csv')\n",
    "df_ressonancia.rename({'Cidade':'NOME DO MUNICÍPIO'}, axis=1, inplace=True)\n",
    "df_ressonancia['ano_competencia'] = df_ressonancia['Competencia'].astype(str).str[:4]\n",
    "df_ressonancia['ano_competencia'] = df_ressonancia['ano_competencia'].apply(lambda x: int(x))\n",
    "df_ressonancia = df_ressonancia[['NOME DO MUNICÍPIO','Existentes', 'em Uso', 'SUS','ano_competencia']]"
   ]
  },
  {
   "cell_type": "code",
   "execution_count": 448,
   "metadata": {},
   "outputs": [
    {
     "data": {
      "text/plain": [
       "array(['Recife', 'Porto Alegre', 'Vitória'], dtype=object)"
      ]
     },
     "execution_count": 448,
     "metadata": {},
     "output_type": "execute_result"
    }
   ],
   "source": [
    "df_ressonancia['NOME DO MUNICÍPIO'].unique()"
   ]
  },
  {
   "cell_type": "code",
   "execution_count": 449,
   "metadata": {},
   "outputs": [
    {
     "data": {
      "text/html": [
       "<div>\n",
       "<style scoped>\n",
       "    .dataframe tbody tr th:only-of-type {\n",
       "        vertical-align: middle;\n",
       "    }\n",
       "\n",
       "    .dataframe tbody tr th {\n",
       "        vertical-align: top;\n",
       "    }\n",
       "\n",
       "    .dataframe thead th {\n",
       "        text-align: right;\n",
       "    }\n",
       "</style>\n",
       "<table border=\"1\" class=\"dataframe\">\n",
       "  <thead>\n",
       "    <tr style=\"text-align: right;\">\n",
       "      <th></th>\n",
       "      <th>NOME DO MUNICÍPIO</th>\n",
       "      <th>ano_competencia</th>\n",
       "      <th>Existentes</th>\n",
       "      <th>em Uso</th>\n",
       "      <th>ociosas</th>\n",
       "    </tr>\n",
       "  </thead>\n",
       "  <tbody>\n",
       "    <tr>\n",
       "      <th>0</th>\n",
       "      <td>Porto Alegre</td>\n",
       "      <td>2014</td>\n",
       "      <td>29</td>\n",
       "      <td>26</td>\n",
       "      <td>3</td>\n",
       "    </tr>\n",
       "    <tr>\n",
       "      <th>1</th>\n",
       "      <td>Porto Alegre</td>\n",
       "      <td>2015</td>\n",
       "      <td>30</td>\n",
       "      <td>27</td>\n",
       "      <td>3</td>\n",
       "    </tr>\n",
       "    <tr>\n",
       "      <th>2</th>\n",
       "      <td>Porto Alegre</td>\n",
       "      <td>2016</td>\n",
       "      <td>33</td>\n",
       "      <td>30</td>\n",
       "      <td>3</td>\n",
       "    </tr>\n",
       "    <tr>\n",
       "      <th>3</th>\n",
       "      <td>Porto Alegre</td>\n",
       "      <td>2017</td>\n",
       "      <td>37</td>\n",
       "      <td>34</td>\n",
       "      <td>3</td>\n",
       "    </tr>\n",
       "    <tr>\n",
       "      <th>4</th>\n",
       "      <td>Porto Alegre</td>\n",
       "      <td>2018</td>\n",
       "      <td>36</td>\n",
       "      <td>33</td>\n",
       "      <td>3</td>\n",
       "    </tr>\n",
       "    <tr>\n",
       "      <th>5</th>\n",
       "      <td>Porto Alegre</td>\n",
       "      <td>2019</td>\n",
       "      <td>39</td>\n",
       "      <td>34</td>\n",
       "      <td>5</td>\n",
       "    </tr>\n",
       "    <tr>\n",
       "      <th>6</th>\n",
       "      <td>Recife</td>\n",
       "      <td>2014</td>\n",
       "      <td>31</td>\n",
       "      <td>30</td>\n",
       "      <td>1</td>\n",
       "    </tr>\n",
       "    <tr>\n",
       "      <th>7</th>\n",
       "      <td>Recife</td>\n",
       "      <td>2015</td>\n",
       "      <td>32</td>\n",
       "      <td>31</td>\n",
       "      <td>1</td>\n",
       "    </tr>\n",
       "    <tr>\n",
       "      <th>8</th>\n",
       "      <td>Recife</td>\n",
       "      <td>2016</td>\n",
       "      <td>37</td>\n",
       "      <td>36</td>\n",
       "      <td>1</td>\n",
       "    </tr>\n",
       "    <tr>\n",
       "      <th>9</th>\n",
       "      <td>Recife</td>\n",
       "      <td>2017</td>\n",
       "      <td>45</td>\n",
       "      <td>45</td>\n",
       "      <td>0</td>\n",
       "    </tr>\n",
       "    <tr>\n",
       "      <th>10</th>\n",
       "      <td>Recife</td>\n",
       "      <td>2018</td>\n",
       "      <td>49</td>\n",
       "      <td>48</td>\n",
       "      <td>1</td>\n",
       "    </tr>\n",
       "    <tr>\n",
       "      <th>11</th>\n",
       "      <td>Recife</td>\n",
       "      <td>2019</td>\n",
       "      <td>54</td>\n",
       "      <td>53</td>\n",
       "      <td>1</td>\n",
       "    </tr>\n",
       "    <tr>\n",
       "      <th>12</th>\n",
       "      <td>Vitória</td>\n",
       "      <td>2014</td>\n",
       "      <td>15</td>\n",
       "      <td>15</td>\n",
       "      <td>0</td>\n",
       "    </tr>\n",
       "    <tr>\n",
       "      <th>13</th>\n",
       "      <td>Vitória</td>\n",
       "      <td>2015</td>\n",
       "      <td>15</td>\n",
       "      <td>15</td>\n",
       "      <td>0</td>\n",
       "    </tr>\n",
       "    <tr>\n",
       "      <th>14</th>\n",
       "      <td>Vitória</td>\n",
       "      <td>2016</td>\n",
       "      <td>15</td>\n",
       "      <td>15</td>\n",
       "      <td>0</td>\n",
       "    </tr>\n",
       "    <tr>\n",
       "      <th>15</th>\n",
       "      <td>Vitória</td>\n",
       "      <td>2017</td>\n",
       "      <td>16</td>\n",
       "      <td>16</td>\n",
       "      <td>0</td>\n",
       "    </tr>\n",
       "    <tr>\n",
       "      <th>16</th>\n",
       "      <td>Vitória</td>\n",
       "      <td>2018</td>\n",
       "      <td>16</td>\n",
       "      <td>16</td>\n",
       "      <td>0</td>\n",
       "    </tr>\n",
       "    <tr>\n",
       "      <th>17</th>\n",
       "      <td>Vitória</td>\n",
       "      <td>2019</td>\n",
       "      <td>16</td>\n",
       "      <td>16</td>\n",
       "      <td>0</td>\n",
       "    </tr>\n",
       "  </tbody>\n",
       "</table>\n",
       "</div>"
      ],
      "text/plain": [
       "   NOME DO MUNICÍPIO  ano_competencia  Existentes  em Uso  ociosas\n",
       "0       Porto Alegre             2014          29      26        3\n",
       "1       Porto Alegre             2015          30      27        3\n",
       "2       Porto Alegre             2016          33      30        3\n",
       "3       Porto Alegre             2017          37      34        3\n",
       "4       Porto Alegre             2018          36      33        3\n",
       "5       Porto Alegre             2019          39      34        5\n",
       "6             Recife             2014          31      30        1\n",
       "7             Recife             2015          32      31        1\n",
       "8             Recife             2016          37      36        1\n",
       "9             Recife             2017          45      45        0\n",
       "10            Recife             2018          49      48        1\n",
       "11            Recife             2019          54      53        1\n",
       "12          Vitória             2014          15      15        0\n",
       "13          Vitória             2015          15      15        0\n",
       "14          Vitória             2016          15      15        0\n",
       "15          Vitória             2017          16      16        0\n",
       "16          Vitória             2018          16      16        0\n",
       "17          Vitória             2019          16      16        0"
      ]
     },
     "execution_count": 449,
     "metadata": {},
     "output_type": "execute_result"
    }
   ],
   "source": [
    "df_ressonancia = df_ressonancia.groupby(['NOME DO MUNICÍPIO', 'ano_competencia']).agg({'Existentes':'sum', 'em Uso':'sum'}).reset_index()\n",
    "df_ressonancia['ociosas'] = df_ressonancia['Existentes'] - df_ressonancia['em Uso']\n",
    "df_ressonancia"
   ]
  },
  {
   "cell_type": "code",
   "execution_count": 450,
   "metadata": {},
   "outputs": [
    {
     "data": {
      "text/plain": [
       "array([2014, 2015, 2016, 2017, 2018, 2019], dtype=int64)"
      ]
     },
     "execution_count": 450,
     "metadata": {},
     "output_type": "execute_result"
    }
   ],
   "source": [
    "df_ressonancia['ano_competencia'].unique()"
   ]
  },
  {
   "cell_type": "code",
   "execution_count": 451,
   "metadata": {},
   "outputs": [],
   "source": [
    "df_ressonancia.replace({'Vitória': 'Vitória'}, inplace=True)"
   ]
  },
  {
   "cell_type": "code",
   "execution_count": 452,
   "metadata": {},
   "outputs": [],
   "source": [
    "df_ressonancia_ociosas = df_ressonancia.groupby('NOME DO MUNICÍPIO').agg({'ociosas':'mean'})"
   ]
  },
  {
   "cell_type": "code",
   "execution_count": 453,
   "metadata": {},
   "outputs": [
    {
     "data": {
      "text/html": [
       "<div>\n",
       "<style scoped>\n",
       "    .dataframe tbody tr th:only-of-type {\n",
       "        vertical-align: middle;\n",
       "    }\n",
       "\n",
       "    .dataframe tbody tr th {\n",
       "        vertical-align: top;\n",
       "    }\n",
       "\n",
       "    .dataframe thead th {\n",
       "        text-align: right;\n",
       "    }\n",
       "</style>\n",
       "<table border=\"1\" class=\"dataframe\">\n",
       "  <thead>\n",
       "    <tr style=\"text-align: right;\">\n",
       "      <th></th>\n",
       "      <th>ociosas</th>\n",
       "    </tr>\n",
       "    <tr>\n",
       "      <th>NOME DO MUNICÍPIO</th>\n",
       "      <th></th>\n",
       "    </tr>\n",
       "  </thead>\n",
       "  <tbody>\n",
       "    <tr>\n",
       "      <th>Porto Alegre</th>\n",
       "      <td>3.333333</td>\n",
       "    </tr>\n",
       "    <tr>\n",
       "      <th>Recife</th>\n",
       "      <td>0.833333</td>\n",
       "    </tr>\n",
       "    <tr>\n",
       "      <th>Vitória</th>\n",
       "      <td>0.000000</td>\n",
       "    </tr>\n",
       "  </tbody>\n",
       "</table>\n",
       "</div>"
      ],
      "text/plain": [
       "                    ociosas\n",
       "NOME DO MUNICÍPIO          \n",
       "Porto Alegre       3.333333\n",
       "Recife             0.833333\n",
       "Vitória            0.000000"
      ]
     },
     "execution_count": 453,
     "metadata": {},
     "output_type": "execute_result"
    }
   ],
   "source": [
    "df_ressonancia_ociosas"
   ]
  },
  {
   "cell_type": "code",
   "execution_count": 454,
   "metadata": {},
   "outputs": [
    {
     "data": {
      "text/html": [
       "<div>\n",
       "<style scoped>\n",
       "    .dataframe tbody tr th:only-of-type {\n",
       "        vertical-align: middle;\n",
       "    }\n",
       "\n",
       "    .dataframe tbody tr th {\n",
       "        vertical-align: top;\n",
       "    }\n",
       "\n",
       "    .dataframe thead th {\n",
       "        text-align: right;\n",
       "    }\n",
       "</style>\n",
       "<table border=\"1\" class=\"dataframe\">\n",
       "  <thead>\n",
       "    <tr style=\"text-align: right;\">\n",
       "      <th></th>\n",
       "      <th>UF</th>\n",
       "      <th>COD. MUNIC</th>\n",
       "      <th>NOME DO MUNICÍPIO</th>\n",
       "      <th>POPULAÇÃO ESTIMADA</th>\n",
       "      <th>ano_competencia</th>\n",
       "      <th>PENETRACAO_PLANOS</th>\n",
       "      <th>proporcao</th>\n",
       "      <th>Existentes</th>\n",
       "      <th>em Uso</th>\n",
       "      <th>ociosas</th>\n",
       "    </tr>\n",
       "  </thead>\n",
       "  <tbody>\n",
       "    <tr>\n",
       "      <th>0</th>\n",
       "      <td>PE</td>\n",
       "      <td>11606</td>\n",
       "      <td>Recife</td>\n",
       "      <td>1608488</td>\n",
       "      <td>2014</td>\n",
       "      <td>687587</td>\n",
       "      <td>0.43</td>\n",
       "      <td>31</td>\n",
       "      <td>30</td>\n",
       "      <td>1</td>\n",
       "    </tr>\n",
       "    <tr>\n",
       "      <th>1</th>\n",
       "      <td>ES</td>\n",
       "      <td>5309</td>\n",
       "      <td>Vitória</td>\n",
       "      <td>352104</td>\n",
       "      <td>2014</td>\n",
       "      <td>232478</td>\n",
       "      <td>0.66</td>\n",
       "      <td>15</td>\n",
       "      <td>15</td>\n",
       "      <td>0</td>\n",
       "    </tr>\n",
       "    <tr>\n",
       "      <th>2</th>\n",
       "      <td>RS</td>\n",
       "      <td>14902</td>\n",
       "      <td>Porto Alegre</td>\n",
       "      <td>1472482</td>\n",
       "      <td>2014</td>\n",
       "      <td>703252</td>\n",
       "      <td>0.48</td>\n",
       "      <td>29</td>\n",
       "      <td>26</td>\n",
       "      <td>3</td>\n",
       "    </tr>\n",
       "    <tr>\n",
       "      <th>3</th>\n",
       "      <td>PE</td>\n",
       "      <td>11606</td>\n",
       "      <td>Recife</td>\n",
       "      <td>1617183</td>\n",
       "      <td>2015</td>\n",
       "      <td>644305</td>\n",
       "      <td>0.40</td>\n",
       "      <td>32</td>\n",
       "      <td>31</td>\n",
       "      <td>1</td>\n",
       "    </tr>\n",
       "    <tr>\n",
       "      <th>4</th>\n",
       "      <td>ES</td>\n",
       "      <td>5309</td>\n",
       "      <td>Vitória</td>\n",
       "      <td>355875</td>\n",
       "      <td>2015</td>\n",
       "      <td>221552</td>\n",
       "      <td>0.62</td>\n",
       "      <td>15</td>\n",
       "      <td>15</td>\n",
       "      <td>0</td>\n",
       "    </tr>\n",
       "    <tr>\n",
       "      <th>5</th>\n",
       "      <td>RS</td>\n",
       "      <td>14902</td>\n",
       "      <td>Porto Alegre</td>\n",
       "      <td>1476867</td>\n",
       "      <td>2015</td>\n",
       "      <td>716092</td>\n",
       "      <td>0.48</td>\n",
       "      <td>30</td>\n",
       "      <td>27</td>\n",
       "      <td>3</td>\n",
       "    </tr>\n",
       "    <tr>\n",
       "      <th>6</th>\n",
       "      <td>PE</td>\n",
       "      <td>11606</td>\n",
       "      <td>Recife</td>\n",
       "      <td>1625583</td>\n",
       "      <td>2016</td>\n",
       "      <td>637158</td>\n",
       "      <td>0.39</td>\n",
       "      <td>37</td>\n",
       "      <td>36</td>\n",
       "      <td>1</td>\n",
       "    </tr>\n",
       "    <tr>\n",
       "      <th>7</th>\n",
       "      <td>ES</td>\n",
       "      <td>5309</td>\n",
       "      <td>Vitória</td>\n",
       "      <td>359555</td>\n",
       "      <td>2016</td>\n",
       "      <td>217385</td>\n",
       "      <td>0.60</td>\n",
       "      <td>15</td>\n",
       "      <td>15</td>\n",
       "      <td>0</td>\n",
       "    </tr>\n",
       "    <tr>\n",
       "      <th>8</th>\n",
       "      <td>RS</td>\n",
       "      <td>14902</td>\n",
       "      <td>Porto Alegre</td>\n",
       "      <td>1481019</td>\n",
       "      <td>2016</td>\n",
       "      <td>690366</td>\n",
       "      <td>0.47</td>\n",
       "      <td>33</td>\n",
       "      <td>30</td>\n",
       "      <td>3</td>\n",
       "    </tr>\n",
       "    <tr>\n",
       "      <th>9</th>\n",
       "      <td>PE</td>\n",
       "      <td>11606</td>\n",
       "      <td>Recife</td>\n",
       "      <td>1633697</td>\n",
       "      <td>2017</td>\n",
       "      <td>625070</td>\n",
       "      <td>0.38</td>\n",
       "      <td>45</td>\n",
       "      <td>45</td>\n",
       "      <td>0</td>\n",
       "    </tr>\n",
       "    <tr>\n",
       "      <th>10</th>\n",
       "      <td>ES</td>\n",
       "      <td>5309</td>\n",
       "      <td>Vitória</td>\n",
       "      <td>363140</td>\n",
       "      <td>2017</td>\n",
       "      <td>216145</td>\n",
       "      <td>0.60</td>\n",
       "      <td>16</td>\n",
       "      <td>16</td>\n",
       "      <td>0</td>\n",
       "    </tr>\n",
       "    <tr>\n",
       "      <th>11</th>\n",
       "      <td>RS</td>\n",
       "      <td>14902</td>\n",
       "      <td>Porto Alegre</td>\n",
       "      <td>1484941</td>\n",
       "      <td>2017</td>\n",
       "      <td>677531</td>\n",
       "      <td>0.46</td>\n",
       "      <td>37</td>\n",
       "      <td>34</td>\n",
       "      <td>3</td>\n",
       "    </tr>\n",
       "    <tr>\n",
       "      <th>12</th>\n",
       "      <td>PE</td>\n",
       "      <td>11606</td>\n",
       "      <td>Recife</td>\n",
       "      <td>1637834</td>\n",
       "      <td>2018</td>\n",
       "      <td>623579</td>\n",
       "      <td>0.38</td>\n",
       "      <td>49</td>\n",
       "      <td>48</td>\n",
       "      <td>1</td>\n",
       "    </tr>\n",
       "    <tr>\n",
       "      <th>13</th>\n",
       "      <td>ES</td>\n",
       "      <td>5309</td>\n",
       "      <td>Vitória</td>\n",
       "      <td>358267</td>\n",
       "      <td>2018</td>\n",
       "      <td>214388</td>\n",
       "      <td>0.60</td>\n",
       "      <td>16</td>\n",
       "      <td>16</td>\n",
       "      <td>0</td>\n",
       "    </tr>\n",
       "    <tr>\n",
       "      <th>14</th>\n",
       "      <td>RS</td>\n",
       "      <td>14902</td>\n",
       "      <td>Porto Alegre</td>\n",
       "      <td>1479101</td>\n",
       "      <td>2018</td>\n",
       "      <td>626963</td>\n",
       "      <td>0.42</td>\n",
       "      <td>36</td>\n",
       "      <td>33</td>\n",
       "      <td>3</td>\n",
       "    </tr>\n",
       "    <tr>\n",
       "      <th>15</th>\n",
       "      <td>PE</td>\n",
       "      <td>11606</td>\n",
       "      <td>Recife</td>\n",
       "      <td>1645727</td>\n",
       "      <td>2019</td>\n",
       "      <td>622871</td>\n",
       "      <td>0.38</td>\n",
       "      <td>54</td>\n",
       "      <td>53</td>\n",
       "      <td>1</td>\n",
       "    </tr>\n",
       "    <tr>\n",
       "      <th>16</th>\n",
       "      <td>ES</td>\n",
       "      <td>5309</td>\n",
       "      <td>Vitória</td>\n",
       "      <td>362097</td>\n",
       "      <td>2019</td>\n",
       "      <td>213184</td>\n",
       "      <td>0.59</td>\n",
       "      <td>16</td>\n",
       "      <td>16</td>\n",
       "      <td>0</td>\n",
       "    </tr>\n",
       "    <tr>\n",
       "      <th>17</th>\n",
       "      <td>RS</td>\n",
       "      <td>14902</td>\n",
       "      <td>Porto Alegre</td>\n",
       "      <td>1483771</td>\n",
       "      <td>2019</td>\n",
       "      <td>613078</td>\n",
       "      <td>0.41</td>\n",
       "      <td>39</td>\n",
       "      <td>34</td>\n",
       "      <td>5</td>\n",
       "    </tr>\n",
       "  </tbody>\n",
       "</table>\n",
       "</div>"
      ],
      "text/plain": [
       "    UF  COD. MUNIC NOME DO MUNICÍPIO POPULAÇÃO ESTIMADA  ano_competencia  \\\n",
       "0   PE       11606            Recife            1608488             2014   \n",
       "1   ES        5309           Vitória             352104             2014   \n",
       "2   RS       14902      Porto Alegre            1472482             2014   \n",
       "3   PE       11606            Recife            1617183             2015   \n",
       "4   ES        5309           Vitória             355875             2015   \n",
       "5   RS       14902      Porto Alegre            1476867             2015   \n",
       "6   PE       11606            Recife            1625583             2016   \n",
       "7   ES        5309           Vitória             359555             2016   \n",
       "8   RS       14902      Porto Alegre            1481019             2016   \n",
       "9   PE       11606            Recife            1633697             2017   \n",
       "10  ES        5309           Vitória             363140             2017   \n",
       "11  RS       14902      Porto Alegre            1484941             2017   \n",
       "12  PE       11606            Recife            1637834             2018   \n",
       "13  ES        5309           Vitória             358267             2018   \n",
       "14  RS       14902      Porto Alegre            1479101             2018   \n",
       "15  PE       11606            Recife            1645727             2019   \n",
       "16  ES        5309           Vitória             362097             2019   \n",
       "17  RS       14902      Porto Alegre            1483771             2019   \n",
       "\n",
       "    PENETRACAO_PLANOS  proporcao  Existentes  em Uso  ociosas  \n",
       "0              687587       0.43          31      30        1  \n",
       "1              232478       0.66          15      15        0  \n",
       "2              703252       0.48          29      26        3  \n",
       "3              644305       0.40          32      31        1  \n",
       "4              221552       0.62          15      15        0  \n",
       "5              716092       0.48          30      27        3  \n",
       "6              637158       0.39          37      36        1  \n",
       "7              217385       0.60          15      15        0  \n",
       "8              690366       0.47          33      30        3  \n",
       "9              625070       0.38          45      45        0  \n",
       "10             216145       0.60          16      16        0  \n",
       "11             677531       0.46          37      34        3  \n",
       "12             623579       0.38          49      48        1  \n",
       "13             214388       0.60          16      16        0  \n",
       "14             626963       0.42          36      33        3  \n",
       "15             622871       0.38          54      53        1  \n",
       "16             213184       0.59          16      16        0  \n",
       "17             613078       0.41          39      34        5  "
      ]
     },
     "execution_count": 454,
     "metadata": {},
     "output_type": "execute_result"
    }
   ],
   "source": [
    "teste = pd.merge(df_merged, df_ressonancia, how='left', on=['NOME DO MUNICÍPIO', 'ano_competencia'])\n",
    "teste = teste.dropna()\n",
    "teste"
   ]
  },
  {
   "cell_type": "code",
   "execution_count": 455,
   "metadata": {},
   "outputs": [],
   "source": [
    "teste['maquina_existente_vs_populacal'] = teste['Existentes'] / teste['POPULAÇÃO ESTIMADA']\n",
    "teste['maquina_emuso_vs_populacal'] = teste['em Uso'] / teste['POPULAÇÃO ESTIMADA']\n"
   ]
  },
  {
   "cell_type": "code",
   "execution_count": 456,
   "metadata": {},
   "outputs": [
    {
     "data": {
      "text/html": [
       "<div>\n",
       "<style scoped>\n",
       "    .dataframe tbody tr th:only-of-type {\n",
       "        vertical-align: middle;\n",
       "    }\n",
       "\n",
       "    .dataframe tbody tr th {\n",
       "        vertical-align: top;\n",
       "    }\n",
       "\n",
       "    .dataframe thead th {\n",
       "        text-align: right;\n",
       "    }\n",
       "</style>\n",
       "<table border=\"1\" class=\"dataframe\">\n",
       "  <thead>\n",
       "    <tr style=\"text-align: right;\">\n",
       "      <th></th>\n",
       "      <th>UF</th>\n",
       "      <th>COD. MUNIC</th>\n",
       "      <th>NOME DO MUNICÍPIO</th>\n",
       "      <th>POPULAÇÃO ESTIMADA</th>\n",
       "      <th>ano_competencia</th>\n",
       "      <th>PENETRACAO_PLANOS</th>\n",
       "      <th>proporcao</th>\n",
       "      <th>Existentes</th>\n",
       "      <th>em Uso</th>\n",
       "      <th>ociosas</th>\n",
       "      <th>maquina_existente_vs_populacal</th>\n",
       "      <th>maquina_emuso_vs_populacal</th>\n",
       "    </tr>\n",
       "  </thead>\n",
       "  <tbody>\n",
       "    <tr>\n",
       "      <th>0</th>\n",
       "      <td>PE</td>\n",
       "      <td>11606</td>\n",
       "      <td>Recife</td>\n",
       "      <td>1608488</td>\n",
       "      <td>2014</td>\n",
       "      <td>687587</td>\n",
       "      <td>0.43</td>\n",
       "      <td>31</td>\n",
       "      <td>30</td>\n",
       "      <td>1</td>\n",
       "      <td>0.000019</td>\n",
       "      <td>0.000019</td>\n",
       "    </tr>\n",
       "    <tr>\n",
       "      <th>1</th>\n",
       "      <td>ES</td>\n",
       "      <td>5309</td>\n",
       "      <td>Vitória</td>\n",
       "      <td>352104</td>\n",
       "      <td>2014</td>\n",
       "      <td>232478</td>\n",
       "      <td>0.66</td>\n",
       "      <td>15</td>\n",
       "      <td>15</td>\n",
       "      <td>0</td>\n",
       "      <td>0.000043</td>\n",
       "      <td>0.000043</td>\n",
       "    </tr>\n",
       "    <tr>\n",
       "      <th>2</th>\n",
       "      <td>RS</td>\n",
       "      <td>14902</td>\n",
       "      <td>Porto Alegre</td>\n",
       "      <td>1472482</td>\n",
       "      <td>2014</td>\n",
       "      <td>703252</td>\n",
       "      <td>0.48</td>\n",
       "      <td>29</td>\n",
       "      <td>26</td>\n",
       "      <td>3</td>\n",
       "      <td>0.00002</td>\n",
       "      <td>0.000018</td>\n",
       "    </tr>\n",
       "    <tr>\n",
       "      <th>3</th>\n",
       "      <td>PE</td>\n",
       "      <td>11606</td>\n",
       "      <td>Recife</td>\n",
       "      <td>1617183</td>\n",
       "      <td>2015</td>\n",
       "      <td>644305</td>\n",
       "      <td>0.40</td>\n",
       "      <td>32</td>\n",
       "      <td>31</td>\n",
       "      <td>1</td>\n",
       "      <td>0.00002</td>\n",
       "      <td>0.000019</td>\n",
       "    </tr>\n",
       "    <tr>\n",
       "      <th>4</th>\n",
       "      <td>ES</td>\n",
       "      <td>5309</td>\n",
       "      <td>Vitória</td>\n",
       "      <td>355875</td>\n",
       "      <td>2015</td>\n",
       "      <td>221552</td>\n",
       "      <td>0.62</td>\n",
       "      <td>15</td>\n",
       "      <td>15</td>\n",
       "      <td>0</td>\n",
       "      <td>0.000042</td>\n",
       "      <td>0.000042</td>\n",
       "    </tr>\n",
       "    <tr>\n",
       "      <th>5</th>\n",
       "      <td>RS</td>\n",
       "      <td>14902</td>\n",
       "      <td>Porto Alegre</td>\n",
       "      <td>1476867</td>\n",
       "      <td>2015</td>\n",
       "      <td>716092</td>\n",
       "      <td>0.48</td>\n",
       "      <td>30</td>\n",
       "      <td>27</td>\n",
       "      <td>3</td>\n",
       "      <td>0.00002</td>\n",
       "      <td>0.000018</td>\n",
       "    </tr>\n",
       "    <tr>\n",
       "      <th>6</th>\n",
       "      <td>PE</td>\n",
       "      <td>11606</td>\n",
       "      <td>Recife</td>\n",
       "      <td>1625583</td>\n",
       "      <td>2016</td>\n",
       "      <td>637158</td>\n",
       "      <td>0.39</td>\n",
       "      <td>37</td>\n",
       "      <td>36</td>\n",
       "      <td>1</td>\n",
       "      <td>0.000023</td>\n",
       "      <td>0.000022</td>\n",
       "    </tr>\n",
       "    <tr>\n",
       "      <th>7</th>\n",
       "      <td>ES</td>\n",
       "      <td>5309</td>\n",
       "      <td>Vitória</td>\n",
       "      <td>359555</td>\n",
       "      <td>2016</td>\n",
       "      <td>217385</td>\n",
       "      <td>0.60</td>\n",
       "      <td>15</td>\n",
       "      <td>15</td>\n",
       "      <td>0</td>\n",
       "      <td>0.000042</td>\n",
       "      <td>0.000042</td>\n",
       "    </tr>\n",
       "    <tr>\n",
       "      <th>8</th>\n",
       "      <td>RS</td>\n",
       "      <td>14902</td>\n",
       "      <td>Porto Alegre</td>\n",
       "      <td>1481019</td>\n",
       "      <td>2016</td>\n",
       "      <td>690366</td>\n",
       "      <td>0.47</td>\n",
       "      <td>33</td>\n",
       "      <td>30</td>\n",
       "      <td>3</td>\n",
       "      <td>0.000022</td>\n",
       "      <td>0.00002</td>\n",
       "    </tr>\n",
       "    <tr>\n",
       "      <th>9</th>\n",
       "      <td>PE</td>\n",
       "      <td>11606</td>\n",
       "      <td>Recife</td>\n",
       "      <td>1633697</td>\n",
       "      <td>2017</td>\n",
       "      <td>625070</td>\n",
       "      <td>0.38</td>\n",
       "      <td>45</td>\n",
       "      <td>45</td>\n",
       "      <td>0</td>\n",
       "      <td>0.000028</td>\n",
       "      <td>0.000028</td>\n",
       "    </tr>\n",
       "    <tr>\n",
       "      <th>10</th>\n",
       "      <td>ES</td>\n",
       "      <td>5309</td>\n",
       "      <td>Vitória</td>\n",
       "      <td>363140</td>\n",
       "      <td>2017</td>\n",
       "      <td>216145</td>\n",
       "      <td>0.60</td>\n",
       "      <td>16</td>\n",
       "      <td>16</td>\n",
       "      <td>0</td>\n",
       "      <td>0.000044</td>\n",
       "      <td>0.000044</td>\n",
       "    </tr>\n",
       "    <tr>\n",
       "      <th>11</th>\n",
       "      <td>RS</td>\n",
       "      <td>14902</td>\n",
       "      <td>Porto Alegre</td>\n",
       "      <td>1484941</td>\n",
       "      <td>2017</td>\n",
       "      <td>677531</td>\n",
       "      <td>0.46</td>\n",
       "      <td>37</td>\n",
       "      <td>34</td>\n",
       "      <td>3</td>\n",
       "      <td>0.000025</td>\n",
       "      <td>0.000023</td>\n",
       "    </tr>\n",
       "    <tr>\n",
       "      <th>12</th>\n",
       "      <td>PE</td>\n",
       "      <td>11606</td>\n",
       "      <td>Recife</td>\n",
       "      <td>1637834</td>\n",
       "      <td>2018</td>\n",
       "      <td>623579</td>\n",
       "      <td>0.38</td>\n",
       "      <td>49</td>\n",
       "      <td>48</td>\n",
       "      <td>1</td>\n",
       "      <td>0.00003</td>\n",
       "      <td>0.000029</td>\n",
       "    </tr>\n",
       "    <tr>\n",
       "      <th>13</th>\n",
       "      <td>ES</td>\n",
       "      <td>5309</td>\n",
       "      <td>Vitória</td>\n",
       "      <td>358267</td>\n",
       "      <td>2018</td>\n",
       "      <td>214388</td>\n",
       "      <td>0.60</td>\n",
       "      <td>16</td>\n",
       "      <td>16</td>\n",
       "      <td>0</td>\n",
       "      <td>0.000045</td>\n",
       "      <td>0.000045</td>\n",
       "    </tr>\n",
       "    <tr>\n",
       "      <th>14</th>\n",
       "      <td>RS</td>\n",
       "      <td>14902</td>\n",
       "      <td>Porto Alegre</td>\n",
       "      <td>1479101</td>\n",
       "      <td>2018</td>\n",
       "      <td>626963</td>\n",
       "      <td>0.42</td>\n",
       "      <td>36</td>\n",
       "      <td>33</td>\n",
       "      <td>3</td>\n",
       "      <td>0.000024</td>\n",
       "      <td>0.000022</td>\n",
       "    </tr>\n",
       "    <tr>\n",
       "      <th>15</th>\n",
       "      <td>PE</td>\n",
       "      <td>11606</td>\n",
       "      <td>Recife</td>\n",
       "      <td>1645727</td>\n",
       "      <td>2019</td>\n",
       "      <td>622871</td>\n",
       "      <td>0.38</td>\n",
       "      <td>54</td>\n",
       "      <td>53</td>\n",
       "      <td>1</td>\n",
       "      <td>0.000033</td>\n",
       "      <td>0.000032</td>\n",
       "    </tr>\n",
       "    <tr>\n",
       "      <th>16</th>\n",
       "      <td>ES</td>\n",
       "      <td>5309</td>\n",
       "      <td>Vitória</td>\n",
       "      <td>362097</td>\n",
       "      <td>2019</td>\n",
       "      <td>213184</td>\n",
       "      <td>0.59</td>\n",
       "      <td>16</td>\n",
       "      <td>16</td>\n",
       "      <td>0</td>\n",
       "      <td>0.000044</td>\n",
       "      <td>0.000044</td>\n",
       "    </tr>\n",
       "    <tr>\n",
       "      <th>17</th>\n",
       "      <td>RS</td>\n",
       "      <td>14902</td>\n",
       "      <td>Porto Alegre</td>\n",
       "      <td>1483771</td>\n",
       "      <td>2019</td>\n",
       "      <td>613078</td>\n",
       "      <td>0.41</td>\n",
       "      <td>39</td>\n",
       "      <td>34</td>\n",
       "      <td>5</td>\n",
       "      <td>0.000026</td>\n",
       "      <td>0.000023</td>\n",
       "    </tr>\n",
       "  </tbody>\n",
       "</table>\n",
       "</div>"
      ],
      "text/plain": [
       "    UF  COD. MUNIC NOME DO MUNICÍPIO POPULAÇÃO ESTIMADA  ano_competencia  \\\n",
       "0   PE       11606            Recife            1608488             2014   \n",
       "1   ES        5309           Vitória             352104             2014   \n",
       "2   RS       14902      Porto Alegre            1472482             2014   \n",
       "3   PE       11606            Recife            1617183             2015   \n",
       "4   ES        5309           Vitória             355875             2015   \n",
       "5   RS       14902      Porto Alegre            1476867             2015   \n",
       "6   PE       11606            Recife            1625583             2016   \n",
       "7   ES        5309           Vitória             359555             2016   \n",
       "8   RS       14902      Porto Alegre            1481019             2016   \n",
       "9   PE       11606            Recife            1633697             2017   \n",
       "10  ES        5309           Vitória             363140             2017   \n",
       "11  RS       14902      Porto Alegre            1484941             2017   \n",
       "12  PE       11606            Recife            1637834             2018   \n",
       "13  ES        5309           Vitória             358267             2018   \n",
       "14  RS       14902      Porto Alegre            1479101             2018   \n",
       "15  PE       11606            Recife            1645727             2019   \n",
       "16  ES        5309           Vitória             362097             2019   \n",
       "17  RS       14902      Porto Alegre            1483771             2019   \n",
       "\n",
       "    PENETRACAO_PLANOS  proporcao  Existentes  em Uso  ociosas  \\\n",
       "0              687587       0.43          31      30        1   \n",
       "1              232478       0.66          15      15        0   \n",
       "2              703252       0.48          29      26        3   \n",
       "3              644305       0.40          32      31        1   \n",
       "4              221552       0.62          15      15        0   \n",
       "5              716092       0.48          30      27        3   \n",
       "6              637158       0.39          37      36        1   \n",
       "7              217385       0.60          15      15        0   \n",
       "8              690366       0.47          33      30        3   \n",
       "9              625070       0.38          45      45        0   \n",
       "10             216145       0.60          16      16        0   \n",
       "11             677531       0.46          37      34        3   \n",
       "12             623579       0.38          49      48        1   \n",
       "13             214388       0.60          16      16        0   \n",
       "14             626963       0.42          36      33        3   \n",
       "15             622871       0.38          54      53        1   \n",
       "16             213184       0.59          16      16        0   \n",
       "17             613078       0.41          39      34        5   \n",
       "\n",
       "   maquina_existente_vs_populacal maquina_emuso_vs_populacal  \n",
       "0                        0.000019                   0.000019  \n",
       "1                        0.000043                   0.000043  \n",
       "2                         0.00002                   0.000018  \n",
       "3                         0.00002                   0.000019  \n",
       "4                        0.000042                   0.000042  \n",
       "5                         0.00002                   0.000018  \n",
       "6                        0.000023                   0.000022  \n",
       "7                        0.000042                   0.000042  \n",
       "8                        0.000022                    0.00002  \n",
       "9                        0.000028                   0.000028  \n",
       "10                       0.000044                   0.000044  \n",
       "11                       0.000025                   0.000023  \n",
       "12                        0.00003                   0.000029  \n",
       "13                       0.000045                   0.000045  \n",
       "14                       0.000024                   0.000022  \n",
       "15                       0.000033                   0.000032  \n",
       "16                       0.000044                   0.000044  \n",
       "17                       0.000026                   0.000023  "
      ]
     },
     "execution_count": 456,
     "metadata": {},
     "output_type": "execute_result"
    }
   ],
   "source": [
    "teste"
   ]
  },
  {
   "cell_type": "code",
   "execution_count": 457,
   "metadata": {},
   "outputs": [
    {
     "data": {
      "text/html": [
       "<div>\n",
       "<style scoped>\n",
       "    .dataframe tbody tr th:only-of-type {\n",
       "        vertical-align: middle;\n",
       "    }\n",
       "\n",
       "    .dataframe tbody tr th {\n",
       "        vertical-align: top;\n",
       "    }\n",
       "\n",
       "    .dataframe thead th {\n",
       "        text-align: right;\n",
       "    }\n",
       "</style>\n",
       "<table border=\"1\" class=\"dataframe\">\n",
       "  <thead>\n",
       "    <tr style=\"text-align: right;\">\n",
       "      <th></th>\n",
       "      <th>UF</th>\n",
       "      <th>COD. MUNIC</th>\n",
       "      <th>NOME DO MUNICÍPIO</th>\n",
       "      <th>POPULAÇÃO ESTIMADA</th>\n",
       "      <th>ano_competencia</th>\n",
       "      <th>PENETRACAO_PLANOS</th>\n",
       "      <th>plano_vs_populacao</th>\n",
       "      <th>Existentes</th>\n",
       "      <th>em Uso</th>\n",
       "      <th>ociosas</th>\n",
       "      <th>maquina_existente_vs_populacal</th>\n",
       "      <th>maquina_emuso_vs_populacal</th>\n",
       "    </tr>\n",
       "  </thead>\n",
       "  <tbody>\n",
       "    <tr>\n",
       "      <th>0</th>\n",
       "      <td>PE</td>\n",
       "      <td>11606</td>\n",
       "      <td>Recife</td>\n",
       "      <td>1608488</td>\n",
       "      <td>2014</td>\n",
       "      <td>687587</td>\n",
       "      <td>0.43</td>\n",
       "      <td>31</td>\n",
       "      <td>30</td>\n",
       "      <td>1</td>\n",
       "      <td>0.000019</td>\n",
       "      <td>0.000019</td>\n",
       "    </tr>\n",
       "    <tr>\n",
       "      <th>1</th>\n",
       "      <td>ES</td>\n",
       "      <td>5309</td>\n",
       "      <td>Vitória</td>\n",
       "      <td>352104</td>\n",
       "      <td>2014</td>\n",
       "      <td>232478</td>\n",
       "      <td>0.66</td>\n",
       "      <td>15</td>\n",
       "      <td>15</td>\n",
       "      <td>0</td>\n",
       "      <td>0.000043</td>\n",
       "      <td>0.000043</td>\n",
       "    </tr>\n",
       "    <tr>\n",
       "      <th>2</th>\n",
       "      <td>RS</td>\n",
       "      <td>14902</td>\n",
       "      <td>Porto Alegre</td>\n",
       "      <td>1472482</td>\n",
       "      <td>2014</td>\n",
       "      <td>703252</td>\n",
       "      <td>0.48</td>\n",
       "      <td>29</td>\n",
       "      <td>26</td>\n",
       "      <td>3</td>\n",
       "      <td>0.00002</td>\n",
       "      <td>0.000018</td>\n",
       "    </tr>\n",
       "    <tr>\n",
       "      <th>3</th>\n",
       "      <td>PE</td>\n",
       "      <td>11606</td>\n",
       "      <td>Recife</td>\n",
       "      <td>1617183</td>\n",
       "      <td>2015</td>\n",
       "      <td>644305</td>\n",
       "      <td>0.40</td>\n",
       "      <td>32</td>\n",
       "      <td>31</td>\n",
       "      <td>1</td>\n",
       "      <td>0.00002</td>\n",
       "      <td>0.000019</td>\n",
       "    </tr>\n",
       "    <tr>\n",
       "      <th>4</th>\n",
       "      <td>ES</td>\n",
       "      <td>5309</td>\n",
       "      <td>Vitória</td>\n",
       "      <td>355875</td>\n",
       "      <td>2015</td>\n",
       "      <td>221552</td>\n",
       "      <td>0.62</td>\n",
       "      <td>15</td>\n",
       "      <td>15</td>\n",
       "      <td>0</td>\n",
       "      <td>0.000042</td>\n",
       "      <td>0.000042</td>\n",
       "    </tr>\n",
       "    <tr>\n",
       "      <th>5</th>\n",
       "      <td>RS</td>\n",
       "      <td>14902</td>\n",
       "      <td>Porto Alegre</td>\n",
       "      <td>1476867</td>\n",
       "      <td>2015</td>\n",
       "      <td>716092</td>\n",
       "      <td>0.48</td>\n",
       "      <td>30</td>\n",
       "      <td>27</td>\n",
       "      <td>3</td>\n",
       "      <td>0.00002</td>\n",
       "      <td>0.000018</td>\n",
       "    </tr>\n",
       "    <tr>\n",
       "      <th>6</th>\n",
       "      <td>PE</td>\n",
       "      <td>11606</td>\n",
       "      <td>Recife</td>\n",
       "      <td>1625583</td>\n",
       "      <td>2016</td>\n",
       "      <td>637158</td>\n",
       "      <td>0.39</td>\n",
       "      <td>37</td>\n",
       "      <td>36</td>\n",
       "      <td>1</td>\n",
       "      <td>0.000023</td>\n",
       "      <td>0.000022</td>\n",
       "    </tr>\n",
       "    <tr>\n",
       "      <th>7</th>\n",
       "      <td>ES</td>\n",
       "      <td>5309</td>\n",
       "      <td>Vitória</td>\n",
       "      <td>359555</td>\n",
       "      <td>2016</td>\n",
       "      <td>217385</td>\n",
       "      <td>0.60</td>\n",
       "      <td>15</td>\n",
       "      <td>15</td>\n",
       "      <td>0</td>\n",
       "      <td>0.000042</td>\n",
       "      <td>0.000042</td>\n",
       "    </tr>\n",
       "    <tr>\n",
       "      <th>8</th>\n",
       "      <td>RS</td>\n",
       "      <td>14902</td>\n",
       "      <td>Porto Alegre</td>\n",
       "      <td>1481019</td>\n",
       "      <td>2016</td>\n",
       "      <td>690366</td>\n",
       "      <td>0.47</td>\n",
       "      <td>33</td>\n",
       "      <td>30</td>\n",
       "      <td>3</td>\n",
       "      <td>0.000022</td>\n",
       "      <td>0.00002</td>\n",
       "    </tr>\n",
       "    <tr>\n",
       "      <th>9</th>\n",
       "      <td>PE</td>\n",
       "      <td>11606</td>\n",
       "      <td>Recife</td>\n",
       "      <td>1633697</td>\n",
       "      <td>2017</td>\n",
       "      <td>625070</td>\n",
       "      <td>0.38</td>\n",
       "      <td>45</td>\n",
       "      <td>45</td>\n",
       "      <td>0</td>\n",
       "      <td>0.000028</td>\n",
       "      <td>0.000028</td>\n",
       "    </tr>\n",
       "    <tr>\n",
       "      <th>10</th>\n",
       "      <td>ES</td>\n",
       "      <td>5309</td>\n",
       "      <td>Vitória</td>\n",
       "      <td>363140</td>\n",
       "      <td>2017</td>\n",
       "      <td>216145</td>\n",
       "      <td>0.60</td>\n",
       "      <td>16</td>\n",
       "      <td>16</td>\n",
       "      <td>0</td>\n",
       "      <td>0.000044</td>\n",
       "      <td>0.000044</td>\n",
       "    </tr>\n",
       "    <tr>\n",
       "      <th>11</th>\n",
       "      <td>RS</td>\n",
       "      <td>14902</td>\n",
       "      <td>Porto Alegre</td>\n",
       "      <td>1484941</td>\n",
       "      <td>2017</td>\n",
       "      <td>677531</td>\n",
       "      <td>0.46</td>\n",
       "      <td>37</td>\n",
       "      <td>34</td>\n",
       "      <td>3</td>\n",
       "      <td>0.000025</td>\n",
       "      <td>0.000023</td>\n",
       "    </tr>\n",
       "    <tr>\n",
       "      <th>12</th>\n",
       "      <td>PE</td>\n",
       "      <td>11606</td>\n",
       "      <td>Recife</td>\n",
       "      <td>1637834</td>\n",
       "      <td>2018</td>\n",
       "      <td>623579</td>\n",
       "      <td>0.38</td>\n",
       "      <td>49</td>\n",
       "      <td>48</td>\n",
       "      <td>1</td>\n",
       "      <td>0.00003</td>\n",
       "      <td>0.000029</td>\n",
       "    </tr>\n",
       "    <tr>\n",
       "      <th>13</th>\n",
       "      <td>ES</td>\n",
       "      <td>5309</td>\n",
       "      <td>Vitória</td>\n",
       "      <td>358267</td>\n",
       "      <td>2018</td>\n",
       "      <td>214388</td>\n",
       "      <td>0.60</td>\n",
       "      <td>16</td>\n",
       "      <td>16</td>\n",
       "      <td>0</td>\n",
       "      <td>0.000045</td>\n",
       "      <td>0.000045</td>\n",
       "    </tr>\n",
       "    <tr>\n",
       "      <th>14</th>\n",
       "      <td>RS</td>\n",
       "      <td>14902</td>\n",
       "      <td>Porto Alegre</td>\n",
       "      <td>1479101</td>\n",
       "      <td>2018</td>\n",
       "      <td>626963</td>\n",
       "      <td>0.42</td>\n",
       "      <td>36</td>\n",
       "      <td>33</td>\n",
       "      <td>3</td>\n",
       "      <td>0.000024</td>\n",
       "      <td>0.000022</td>\n",
       "    </tr>\n",
       "    <tr>\n",
       "      <th>15</th>\n",
       "      <td>PE</td>\n",
       "      <td>11606</td>\n",
       "      <td>Recife</td>\n",
       "      <td>1645727</td>\n",
       "      <td>2019</td>\n",
       "      <td>622871</td>\n",
       "      <td>0.38</td>\n",
       "      <td>54</td>\n",
       "      <td>53</td>\n",
       "      <td>1</td>\n",
       "      <td>0.000033</td>\n",
       "      <td>0.000032</td>\n",
       "    </tr>\n",
       "    <tr>\n",
       "      <th>16</th>\n",
       "      <td>ES</td>\n",
       "      <td>5309</td>\n",
       "      <td>Vitória</td>\n",
       "      <td>362097</td>\n",
       "      <td>2019</td>\n",
       "      <td>213184</td>\n",
       "      <td>0.59</td>\n",
       "      <td>16</td>\n",
       "      <td>16</td>\n",
       "      <td>0</td>\n",
       "      <td>0.000044</td>\n",
       "      <td>0.000044</td>\n",
       "    </tr>\n",
       "    <tr>\n",
       "      <th>17</th>\n",
       "      <td>RS</td>\n",
       "      <td>14902</td>\n",
       "      <td>Porto Alegre</td>\n",
       "      <td>1483771</td>\n",
       "      <td>2019</td>\n",
       "      <td>613078</td>\n",
       "      <td>0.41</td>\n",
       "      <td>39</td>\n",
       "      <td>34</td>\n",
       "      <td>5</td>\n",
       "      <td>0.000026</td>\n",
       "      <td>0.000023</td>\n",
       "    </tr>\n",
       "  </tbody>\n",
       "</table>\n",
       "</div>"
      ],
      "text/plain": [
       "    UF  COD. MUNIC NOME DO MUNICÍPIO POPULAÇÃO ESTIMADA  ano_competencia  \\\n",
       "0   PE       11606            Recife            1608488             2014   \n",
       "1   ES        5309           Vitória             352104             2014   \n",
       "2   RS       14902      Porto Alegre            1472482             2014   \n",
       "3   PE       11606            Recife            1617183             2015   \n",
       "4   ES        5309           Vitória             355875             2015   \n",
       "5   RS       14902      Porto Alegre            1476867             2015   \n",
       "6   PE       11606            Recife            1625583             2016   \n",
       "7   ES        5309           Vitória             359555             2016   \n",
       "8   RS       14902      Porto Alegre            1481019             2016   \n",
       "9   PE       11606            Recife            1633697             2017   \n",
       "10  ES        5309           Vitória             363140             2017   \n",
       "11  RS       14902      Porto Alegre            1484941             2017   \n",
       "12  PE       11606            Recife            1637834             2018   \n",
       "13  ES        5309           Vitória             358267             2018   \n",
       "14  RS       14902      Porto Alegre            1479101             2018   \n",
       "15  PE       11606            Recife            1645727             2019   \n",
       "16  ES        5309           Vitória             362097             2019   \n",
       "17  RS       14902      Porto Alegre            1483771             2019   \n",
       "\n",
       "    PENETRACAO_PLANOS  plano_vs_populacao  Existentes  em Uso  ociosas  \\\n",
       "0              687587                0.43          31      30        1   \n",
       "1              232478                0.66          15      15        0   \n",
       "2              703252                0.48          29      26        3   \n",
       "3              644305                0.40          32      31        1   \n",
       "4              221552                0.62          15      15        0   \n",
       "5              716092                0.48          30      27        3   \n",
       "6              637158                0.39          37      36        1   \n",
       "7              217385                0.60          15      15        0   \n",
       "8              690366                0.47          33      30        3   \n",
       "9              625070                0.38          45      45        0   \n",
       "10             216145                0.60          16      16        0   \n",
       "11             677531                0.46          37      34        3   \n",
       "12             623579                0.38          49      48        1   \n",
       "13             214388                0.60          16      16        0   \n",
       "14             626963                0.42          36      33        3   \n",
       "15             622871                0.38          54      53        1   \n",
       "16             213184                0.59          16      16        0   \n",
       "17             613078                0.41          39      34        5   \n",
       "\n",
       "   maquina_existente_vs_populacal maquina_emuso_vs_populacal  \n",
       "0                        0.000019                   0.000019  \n",
       "1                        0.000043                   0.000043  \n",
       "2                         0.00002                   0.000018  \n",
       "3                         0.00002                   0.000019  \n",
       "4                        0.000042                   0.000042  \n",
       "5                         0.00002                   0.000018  \n",
       "6                        0.000023                   0.000022  \n",
       "7                        0.000042                   0.000042  \n",
       "8                        0.000022                    0.00002  \n",
       "9                        0.000028                   0.000028  \n",
       "10                       0.000044                   0.000044  \n",
       "11                       0.000025                   0.000023  \n",
       "12                        0.00003                   0.000029  \n",
       "13                       0.000045                   0.000045  \n",
       "14                       0.000024                   0.000022  \n",
       "15                       0.000033                   0.000032  \n",
       "16                       0.000044                   0.000044  \n",
       "17                       0.000026                   0.000023  "
      ]
     },
     "execution_count": 457,
     "metadata": {},
     "output_type": "execute_result"
    }
   ],
   "source": [
    "teste.rename({'proporcao':'plano_vs_populacao'},axis=1, inplace=True)\n",
    "teste"
   ]
  },
  {
   "cell_type": "code",
   "execution_count": 458,
   "metadata": {},
   "outputs": [
    {
     "data": {
      "text/html": [
       "<div>\n",
       "<style scoped>\n",
       "    .dataframe tbody tr th:only-of-type {\n",
       "        vertical-align: middle;\n",
       "    }\n",
       "\n",
       "    .dataframe tbody tr th {\n",
       "        vertical-align: top;\n",
       "    }\n",
       "\n",
       "    .dataframe thead th {\n",
       "        text-align: right;\n",
       "    }\n",
       "</style>\n",
       "<table border=\"1\" class=\"dataframe\">\n",
       "  <thead>\n",
       "    <tr style=\"text-align: right;\">\n",
       "      <th></th>\n",
       "      <th>UF</th>\n",
       "      <th>COD. MUNIC</th>\n",
       "      <th>NOME DO MUNICÍPIO</th>\n",
       "      <th>POPULAÇÃO ESTIMADA</th>\n",
       "      <th>ano_competencia</th>\n",
       "      <th>PENETRACAO_PLANOS</th>\n",
       "      <th>plano_vs_populacao</th>\n",
       "      <th>Existentes</th>\n",
       "      <th>em Uso</th>\n",
       "      <th>ociosas</th>\n",
       "      <th>maquina_existente_vs_populacal</th>\n",
       "      <th>maquina_emuso_vs_populacal</th>\n",
       "    </tr>\n",
       "  </thead>\n",
       "  <tbody>\n",
       "    <tr>\n",
       "      <th>2</th>\n",
       "      <td>RS</td>\n",
       "      <td>14902</td>\n",
       "      <td>Porto Alegre</td>\n",
       "      <td>1472482</td>\n",
       "      <td>2014</td>\n",
       "      <td>703252</td>\n",
       "      <td>0.48</td>\n",
       "      <td>29</td>\n",
       "      <td>26</td>\n",
       "      <td>3</td>\n",
       "      <td>0.00002</td>\n",
       "      <td>0.000018</td>\n",
       "    </tr>\n",
       "    <tr>\n",
       "      <th>5</th>\n",
       "      <td>RS</td>\n",
       "      <td>14902</td>\n",
       "      <td>Porto Alegre</td>\n",
       "      <td>1476867</td>\n",
       "      <td>2015</td>\n",
       "      <td>716092</td>\n",
       "      <td>0.48</td>\n",
       "      <td>30</td>\n",
       "      <td>27</td>\n",
       "      <td>3</td>\n",
       "      <td>0.00002</td>\n",
       "      <td>0.000018</td>\n",
       "    </tr>\n",
       "    <tr>\n",
       "      <th>8</th>\n",
       "      <td>RS</td>\n",
       "      <td>14902</td>\n",
       "      <td>Porto Alegre</td>\n",
       "      <td>1481019</td>\n",
       "      <td>2016</td>\n",
       "      <td>690366</td>\n",
       "      <td>0.47</td>\n",
       "      <td>33</td>\n",
       "      <td>30</td>\n",
       "      <td>3</td>\n",
       "      <td>0.000022</td>\n",
       "      <td>0.00002</td>\n",
       "    </tr>\n",
       "    <tr>\n",
       "      <th>11</th>\n",
       "      <td>RS</td>\n",
       "      <td>14902</td>\n",
       "      <td>Porto Alegre</td>\n",
       "      <td>1484941</td>\n",
       "      <td>2017</td>\n",
       "      <td>677531</td>\n",
       "      <td>0.46</td>\n",
       "      <td>37</td>\n",
       "      <td>34</td>\n",
       "      <td>3</td>\n",
       "      <td>0.000025</td>\n",
       "      <td>0.000023</td>\n",
       "    </tr>\n",
       "    <tr>\n",
       "      <th>14</th>\n",
       "      <td>RS</td>\n",
       "      <td>14902</td>\n",
       "      <td>Porto Alegre</td>\n",
       "      <td>1479101</td>\n",
       "      <td>2018</td>\n",
       "      <td>626963</td>\n",
       "      <td>0.42</td>\n",
       "      <td>36</td>\n",
       "      <td>33</td>\n",
       "      <td>3</td>\n",
       "      <td>0.000024</td>\n",
       "      <td>0.000022</td>\n",
       "    </tr>\n",
       "    <tr>\n",
       "      <th>17</th>\n",
       "      <td>RS</td>\n",
       "      <td>14902</td>\n",
       "      <td>Porto Alegre</td>\n",
       "      <td>1483771</td>\n",
       "      <td>2019</td>\n",
       "      <td>613078</td>\n",
       "      <td>0.41</td>\n",
       "      <td>39</td>\n",
       "      <td>34</td>\n",
       "      <td>5</td>\n",
       "      <td>0.000026</td>\n",
       "      <td>0.000023</td>\n",
       "    </tr>\n",
       "    <tr>\n",
       "      <th>0</th>\n",
       "      <td>PE</td>\n",
       "      <td>11606</td>\n",
       "      <td>Recife</td>\n",
       "      <td>1608488</td>\n",
       "      <td>2014</td>\n",
       "      <td>687587</td>\n",
       "      <td>0.43</td>\n",
       "      <td>31</td>\n",
       "      <td>30</td>\n",
       "      <td>1</td>\n",
       "      <td>0.000019</td>\n",
       "      <td>0.000019</td>\n",
       "    </tr>\n",
       "    <tr>\n",
       "      <th>3</th>\n",
       "      <td>PE</td>\n",
       "      <td>11606</td>\n",
       "      <td>Recife</td>\n",
       "      <td>1617183</td>\n",
       "      <td>2015</td>\n",
       "      <td>644305</td>\n",
       "      <td>0.40</td>\n",
       "      <td>32</td>\n",
       "      <td>31</td>\n",
       "      <td>1</td>\n",
       "      <td>0.00002</td>\n",
       "      <td>0.000019</td>\n",
       "    </tr>\n",
       "    <tr>\n",
       "      <th>6</th>\n",
       "      <td>PE</td>\n",
       "      <td>11606</td>\n",
       "      <td>Recife</td>\n",
       "      <td>1625583</td>\n",
       "      <td>2016</td>\n",
       "      <td>637158</td>\n",
       "      <td>0.39</td>\n",
       "      <td>37</td>\n",
       "      <td>36</td>\n",
       "      <td>1</td>\n",
       "      <td>0.000023</td>\n",
       "      <td>0.000022</td>\n",
       "    </tr>\n",
       "    <tr>\n",
       "      <th>9</th>\n",
       "      <td>PE</td>\n",
       "      <td>11606</td>\n",
       "      <td>Recife</td>\n",
       "      <td>1633697</td>\n",
       "      <td>2017</td>\n",
       "      <td>625070</td>\n",
       "      <td>0.38</td>\n",
       "      <td>45</td>\n",
       "      <td>45</td>\n",
       "      <td>0</td>\n",
       "      <td>0.000028</td>\n",
       "      <td>0.000028</td>\n",
       "    </tr>\n",
       "    <tr>\n",
       "      <th>12</th>\n",
       "      <td>PE</td>\n",
       "      <td>11606</td>\n",
       "      <td>Recife</td>\n",
       "      <td>1637834</td>\n",
       "      <td>2018</td>\n",
       "      <td>623579</td>\n",
       "      <td>0.38</td>\n",
       "      <td>49</td>\n",
       "      <td>48</td>\n",
       "      <td>1</td>\n",
       "      <td>0.00003</td>\n",
       "      <td>0.000029</td>\n",
       "    </tr>\n",
       "    <tr>\n",
       "      <th>15</th>\n",
       "      <td>PE</td>\n",
       "      <td>11606</td>\n",
       "      <td>Recife</td>\n",
       "      <td>1645727</td>\n",
       "      <td>2019</td>\n",
       "      <td>622871</td>\n",
       "      <td>0.38</td>\n",
       "      <td>54</td>\n",
       "      <td>53</td>\n",
       "      <td>1</td>\n",
       "      <td>0.000033</td>\n",
       "      <td>0.000032</td>\n",
       "    </tr>\n",
       "    <tr>\n",
       "      <th>1</th>\n",
       "      <td>ES</td>\n",
       "      <td>5309</td>\n",
       "      <td>Vitória</td>\n",
       "      <td>352104</td>\n",
       "      <td>2014</td>\n",
       "      <td>232478</td>\n",
       "      <td>0.66</td>\n",
       "      <td>15</td>\n",
       "      <td>15</td>\n",
       "      <td>0</td>\n",
       "      <td>0.000043</td>\n",
       "      <td>0.000043</td>\n",
       "    </tr>\n",
       "    <tr>\n",
       "      <th>4</th>\n",
       "      <td>ES</td>\n",
       "      <td>5309</td>\n",
       "      <td>Vitória</td>\n",
       "      <td>355875</td>\n",
       "      <td>2015</td>\n",
       "      <td>221552</td>\n",
       "      <td>0.62</td>\n",
       "      <td>15</td>\n",
       "      <td>15</td>\n",
       "      <td>0</td>\n",
       "      <td>0.000042</td>\n",
       "      <td>0.000042</td>\n",
       "    </tr>\n",
       "    <tr>\n",
       "      <th>7</th>\n",
       "      <td>ES</td>\n",
       "      <td>5309</td>\n",
       "      <td>Vitória</td>\n",
       "      <td>359555</td>\n",
       "      <td>2016</td>\n",
       "      <td>217385</td>\n",
       "      <td>0.60</td>\n",
       "      <td>15</td>\n",
       "      <td>15</td>\n",
       "      <td>0</td>\n",
       "      <td>0.000042</td>\n",
       "      <td>0.000042</td>\n",
       "    </tr>\n",
       "    <tr>\n",
       "      <th>10</th>\n",
       "      <td>ES</td>\n",
       "      <td>5309</td>\n",
       "      <td>Vitória</td>\n",
       "      <td>363140</td>\n",
       "      <td>2017</td>\n",
       "      <td>216145</td>\n",
       "      <td>0.60</td>\n",
       "      <td>16</td>\n",
       "      <td>16</td>\n",
       "      <td>0</td>\n",
       "      <td>0.000044</td>\n",
       "      <td>0.000044</td>\n",
       "    </tr>\n",
       "    <tr>\n",
       "      <th>13</th>\n",
       "      <td>ES</td>\n",
       "      <td>5309</td>\n",
       "      <td>Vitória</td>\n",
       "      <td>358267</td>\n",
       "      <td>2018</td>\n",
       "      <td>214388</td>\n",
       "      <td>0.60</td>\n",
       "      <td>16</td>\n",
       "      <td>16</td>\n",
       "      <td>0</td>\n",
       "      <td>0.000045</td>\n",
       "      <td>0.000045</td>\n",
       "    </tr>\n",
       "    <tr>\n",
       "      <th>16</th>\n",
       "      <td>ES</td>\n",
       "      <td>5309</td>\n",
       "      <td>Vitória</td>\n",
       "      <td>362097</td>\n",
       "      <td>2019</td>\n",
       "      <td>213184</td>\n",
       "      <td>0.59</td>\n",
       "      <td>16</td>\n",
       "      <td>16</td>\n",
       "      <td>0</td>\n",
       "      <td>0.000044</td>\n",
       "      <td>0.000044</td>\n",
       "    </tr>\n",
       "  </tbody>\n",
       "</table>\n",
       "</div>"
      ],
      "text/plain": [
       "    UF  COD. MUNIC NOME DO MUNICÍPIO POPULAÇÃO ESTIMADA  ano_competencia  \\\n",
       "2   RS       14902      Porto Alegre            1472482             2014   \n",
       "5   RS       14902      Porto Alegre            1476867             2015   \n",
       "8   RS       14902      Porto Alegre            1481019             2016   \n",
       "11  RS       14902      Porto Alegre            1484941             2017   \n",
       "14  RS       14902      Porto Alegre            1479101             2018   \n",
       "17  RS       14902      Porto Alegre            1483771             2019   \n",
       "0   PE       11606            Recife            1608488             2014   \n",
       "3   PE       11606            Recife            1617183             2015   \n",
       "6   PE       11606            Recife            1625583             2016   \n",
       "9   PE       11606            Recife            1633697             2017   \n",
       "12  PE       11606            Recife            1637834             2018   \n",
       "15  PE       11606            Recife            1645727             2019   \n",
       "1   ES        5309           Vitória             352104             2014   \n",
       "4   ES        5309           Vitória             355875             2015   \n",
       "7   ES        5309           Vitória             359555             2016   \n",
       "10  ES        5309           Vitória             363140             2017   \n",
       "13  ES        5309           Vitória             358267             2018   \n",
       "16  ES        5309           Vitória             362097             2019   \n",
       "\n",
       "    PENETRACAO_PLANOS  plano_vs_populacao  Existentes  em Uso  ociosas  \\\n",
       "2              703252                0.48          29      26        3   \n",
       "5              716092                0.48          30      27        3   \n",
       "8              690366                0.47          33      30        3   \n",
       "11             677531                0.46          37      34        3   \n",
       "14             626963                0.42          36      33        3   \n",
       "17             613078                0.41          39      34        5   \n",
       "0              687587                0.43          31      30        1   \n",
       "3              644305                0.40          32      31        1   \n",
       "6              637158                0.39          37      36        1   \n",
       "9              625070                0.38          45      45        0   \n",
       "12             623579                0.38          49      48        1   \n",
       "15             622871                0.38          54      53        1   \n",
       "1              232478                0.66          15      15        0   \n",
       "4              221552                0.62          15      15        0   \n",
       "7              217385                0.60          15      15        0   \n",
       "10             216145                0.60          16      16        0   \n",
       "13             214388                0.60          16      16        0   \n",
       "16             213184                0.59          16      16        0   \n",
       "\n",
       "   maquina_existente_vs_populacal maquina_emuso_vs_populacal  \n",
       "2                         0.00002                   0.000018  \n",
       "5                         0.00002                   0.000018  \n",
       "8                        0.000022                    0.00002  \n",
       "11                       0.000025                   0.000023  \n",
       "14                       0.000024                   0.000022  \n",
       "17                       0.000026                   0.000023  \n",
       "0                        0.000019                   0.000019  \n",
       "3                         0.00002                   0.000019  \n",
       "6                        0.000023                   0.000022  \n",
       "9                        0.000028                   0.000028  \n",
       "12                        0.00003                   0.000029  \n",
       "15                       0.000033                   0.000032  \n",
       "1                        0.000043                   0.000043  \n",
       "4                        0.000042                   0.000042  \n",
       "7                        0.000042                   0.000042  \n",
       "10                       0.000044                   0.000044  \n",
       "13                       0.000045                   0.000045  \n",
       "16                       0.000044                   0.000044  "
      ]
     },
     "execution_count": 458,
     "metadata": {},
     "output_type": "execute_result"
    }
   ],
   "source": [
    "teste.sort_values(by=['NOME DO MUNICÍPIO','ano_competencia'])"
   ]
  },
  {
   "cell_type": "code",
   "execution_count": 459,
   "metadata": {},
   "outputs": [],
   "source": [
    "#teste.to_excel('df_merged.xlsx')"
   ]
  }
 ],
 "metadata": {
  "kernelspec": {
   "display_name": "Python 3",
   "language": "python",
   "name": "python3"
  },
  "language_info": {
   "codemirror_mode": {
    "name": "ipython",
    "version": 3
   },
   "file_extension": ".py",
   "mimetype": "text/x-python",
   "name": "python",
   "nbconvert_exporter": "python",
   "pygments_lexer": "ipython3",
   "version": "3.11.2"
  }
 },
 "nbformat": 4,
 "nbformat_minor": 2
}
